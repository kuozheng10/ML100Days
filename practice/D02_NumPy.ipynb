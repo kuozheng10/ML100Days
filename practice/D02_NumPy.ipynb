{
 "cells": [
  {
   "cell_type": "code",
   "execution_count": 4,
   "id": "charged-telescope",
   "metadata": {},
   "outputs": [
    {
     "data": {
      "text/plain": [
       "'1.19.4'"
      ]
     },
     "execution_count": 4,
     "metadata": {},
     "output_type": "execute_result"
    }
   ],
   "source": [
    "import numpy as np\n",
    "np.__version__"
   ]
  },
  {
   "cell_type": "code",
   "execution_count": 5,
   "id": "steady-phenomenon",
   "metadata": {},
   "outputs": [
    {
     "data": {
      "text/plain": [
       "array([[ 0,  1,  2,  3],\n",
       "       [ 4,  5,  6,  7],\n",
       "       [ 8,  9, 10, 11]])"
      ]
     },
     "execution_count": 5,
     "metadata": {},
     "output_type": "execute_result"
    }
   ],
   "source": [
    "a = np.array([[ 0,  1,  2,  3], \n",
    "              [ 4,  5,  6,  7],\n",
    "              [ 8,  9, 10, 11]])\n",
    "a"
   ]
  },
  {
   "cell_type": "markdown",
   "id": "registered-electric",
   "metadata": {},
   "source": [
    "透過 flatten() 與 ravel() 均可將多維陣列轉形為一維陣列，flatten() 與 ravel() 的使用透過下列兩種方法，得到的結果都是完全一樣的。"
   ]
  },
  {
   "cell_type": "code",
   "execution_count": 7,
   "id": "statewide-tracy",
   "metadata": {},
   "outputs": [
    {
     "data": {
      "text/plain": [
       "array([ 0,  1,  2,  3,  4,  5,  6,  7,  8,  9, 10, 11])"
      ]
     },
     "execution_count": 7,
     "metadata": {},
     "output_type": "execute_result"
    }
   ],
   "source": [
    "#轉形為一維陣列\n",
    "a.flatten()"
   ]
  },
  {
   "cell_type": "markdown",
   "id": "regulated-operator",
   "metadata": {},
   "source": [
    "與 flatten() 不同的是，ravel() 建立的是原來陣列的 view，所以在 ravel() 回傳物件中做的元素值變更，將會影響原陣列的元素值。"
   ]
  },
  {
   "cell_type": "code",
   "execution_count": 8,
   "id": "adopted-arbor",
   "metadata": {},
   "outputs": [
    {
     "data": {
      "text/plain": [
       "array([ 0,  1,  2,  3,  4,  5,  6,  7,  8,  9, 10, 11])"
      ]
     },
     "execution_count": 8,
     "metadata": {},
     "output_type": "execute_result"
    }
   ],
   "source": [
    "b = a.ravel()\n",
    "b"
   ]
  },
  {
   "cell_type": "code",
   "execution_count": 10,
   "id": "arabic-mother",
   "metadata": {},
   "outputs": [
    {
     "data": {
      "text/plain": [
       "array([  0,   1,   2, 100,   4,   5,   6,   7,   8,   9,  10,  11])"
      ]
     },
     "execution_count": 10,
     "metadata": {},
     "output_type": "execute_result"
    }
   ],
   "source": [
    "#改變b陣列的元素值\n",
    "b[3] = 100\n",
    "b"
   ]
  },
  {
   "cell_type": "code",
   "execution_count": 11,
   "id": "structural-reason",
   "metadata": {},
   "outputs": [
    {
     "data": {
      "text/plain": [
       "array([[  0,   1,   2, 100],\n",
       "       [  4,   5,   6,   7],\n",
       "       [  8,   9,  10,  11]])"
      ]
     },
     "execution_count": 11,
     "metadata": {},
     "output_type": "execute_result"
    }
   ],
   "source": [
    "a"
   ]
  },
  {
   "cell_type": "markdown",
   "id": "frozen-hampton",
   "metadata": {},
   "source": [
    "flatten() 與 ravel() 引數 order 預設值為 C，常用的引數值有 C 和 F。C 的意義是 C-style，展開時是以 row 為主的順序展開；而 F 是 Fortran-style，展開時是以 column 為主的順序展開。"
   ]
  },
  {
   "cell_type": "code",
   "execution_count": 12,
   "id": "fleet-growth",
   "metadata": {},
   "outputs": [
    {
     "data": {
      "text/plain": [
       "array([  0,   1,   2, 100,   4,   5,   6,   7,   8,   9,  10,  11])"
      ]
     },
     "execution_count": 12,
     "metadata": {},
     "output_type": "execute_result"
    }
   ],
   "source": [
    "#C 的意義是 C-style，展開時是以 row 為主的順序展開\n",
    "a.ravel(order='c') #以row來排序"
   ]
  },
  {
   "cell_type": "code",
   "execution_count": 13,
   "id": "static-league",
   "metadata": {},
   "outputs": [
    {
     "data": {
      "text/plain": [
       "array([  0,   4,   8,   1,   5,   9,   2,   6,  10, 100,   7,  11])"
      ]
     },
     "execution_count": 13,
     "metadata": {},
     "output_type": "execute_result"
    }
   ],
   "source": [
    "# F 是 Fortran-style，展開時是以 column 為主的順序展開\n",
    "a.ravel(order='F') #以column來排序"
   ]
  },
  {
   "cell_type": "markdown",
   "id": "intelligent-profile",
   "metadata": {},
   "source": [
    "1.2 reshape()\n",
    "reshape() 的使用，可以透過 np.reshape(a, new_shape) 或 a.reshape(new_shape, refcheck=True) 來執行。"
   ]
  },
  {
   "cell_type": "code",
   "execution_count": 15,
   "id": "military-shadow",
   "metadata": {},
   "outputs": [
    {
     "data": {
      "text/plain": [
       "array([ 0,  1,  2,  3,  4,  5,  6,  7,  8,  9, 10, 11, 12, 13, 14])"
      ]
     },
     "execution_count": 15,
     "metadata": {},
     "output_type": "execute_result"
    }
   ],
   "source": [
    "a = np.arange(15)\n",
    "a"
   ]
  },
  {
   "cell_type": "code",
   "execution_count": 16,
   "id": "twenty-guest",
   "metadata": {},
   "outputs": [
    {
     "data": {
      "text/plain": [
       "array([[ 0,  1,  2],\n",
       "       [ 3,  4,  5],\n",
       "       [ 6,  7,  8],\n",
       "       [ 9, 10, 11],\n",
       "       [12, 13, 14]])"
      ]
     },
     "execution_count": 16,
     "metadata": {},
     "output_type": "execute_result"
    }
   ],
   "source": [
    "a.reshape((5,3)) #如果新的總數與原先 shape 總數不一致的話，則會產生錯誤。"
   ]
  },
  {
   "cell_type": "code",
   "execution_count": 17,
   "id": "opponent-warner",
   "metadata": {},
   "outputs": [
    {
     "data": {
      "text/plain": [
       "15"
      ]
     },
     "execution_count": 17,
     "metadata": {},
     "output_type": "execute_result"
    }
   ],
   "source": [
    "a.size"
   ]
  },
  {
   "cell_type": "code",
   "execution_count": 18,
   "id": "linear-catch",
   "metadata": {},
   "outputs": [
    {
     "data": {
      "text/plain": [
       "array([[ 0,  1,  2,  3,  4],\n",
       "       [ 5,  6,  7,  8,  9],\n",
       "       [10, 11, 12, 13, 14]])"
      ]
     },
     "execution_count": 18,
     "metadata": {},
     "output_type": "execute_result"
    }
   ],
   "source": [
    "#Reshape 時，新的形狀可以採用模糊指定為 -1，讓 NumPy 自動計算。\n",
    "a.reshape((3, -1))"
   ]
  },
  {
   "cell_type": "markdown",
   "id": "organizational-doubt",
   "metadata": {},
   "source": [
    "1.3 resize()\n",
    "resize() 的使用，也同樣可以透過 np.resize(a, new_shape) 或 a.resize(new_shape, refcheck=True) 來執行。\n",
    "\n",
    "要改變被 reference 的陣列時有可能會產生錯誤，這時候可以將 refcheck 引數設為 False (預設為 True)。"
   ]
  },
  {
   "cell_type": "code",
   "execution_count": 19,
   "id": "sapphire-revelation",
   "metadata": {},
   "outputs": [
    {
     "data": {
      "text/plain": [
       "array([ 0,  1,  2,  3,  4,  5,  6,  7,  8,  9, 10, 11, 12, 13, 14])"
      ]
     },
     "execution_count": 19,
     "metadata": {},
     "output_type": "execute_result"
    }
   ],
   "source": [
    "b = np.arange(15)\n",
    "b"
   ]
  },
  {
   "cell_type": "code",
   "execution_count": 20,
   "id": "surprising-quantity",
   "metadata": {},
   "outputs": [
    {
     "data": {
      "text/plain": [
       "15"
      ]
     },
     "execution_count": 20,
     "metadata": {},
     "output_type": "execute_result"
    }
   ],
   "source": [
    "b.size"
   ]
  },
  {
   "cell_type": "code",
   "execution_count": 22,
   "id": "devoted-panel",
   "metadata": {},
   "outputs": [
    {
     "data": {
      "text/plain": [
       "array([[ 0,  1,  2,  3,  4,  5],\n",
       "       [ 6,  7,  8,  9, 10, 11],\n",
       "       [12, 13, 14,  0,  0,  0]])"
      ]
     },
     "execution_count": 22,
     "metadata": {},
     "output_type": "execute_result"
    }
   ],
   "source": [
    "#如果 resize 的大小超過總元素值(原本為3*5)，則會在後面的元素值的指定為 0。\n",
    "b.resize((3,6),refcheck=False)\n",
    "b"
   ]
  },
  {
   "cell_type": "code",
   "execution_count": 24,
   "id": "featured-slave",
   "metadata": {},
   "outputs": [
    {
     "data": {
      "text/plain": [
       "array([0, 1, 2])"
      ]
     },
     "execution_count": 24,
     "metadata": {},
     "output_type": "execute_result"
    }
   ],
   "source": [
    "#如果 resize 的大小小於總元素值，則會依照 C-style 的順序，取得 resize 後的陣列元素。\n",
    "b.resize(3, refcheck=False) #以row來排序\n",
    "b"
   ]
  },
  {
   "cell_type": "markdown",
   "id": "sharing-morocco",
   "metadata": {},
   "source": [
    "2. 軸 (axis) 與維度 (dimension)\n",
    "軸 (axis) 在 NumPy 多維陣列中是很重要觀念，但是在應用上容易混淆。軸的數目也就是 NumPy 陣列的維度 (dimension) 數，軸的順序編號從 0 開始"
   ]
  },
  {
   "cell_type": "code",
   "execution_count": 25,
   "id": "flush-interstate",
   "metadata": {},
   "outputs": [
    {
     "data": {
      "text/plain": [
       "array([1, 2, 3])"
      ]
     },
     "execution_count": 25,
     "metadata": {},
     "output_type": "execute_result"
    }
   ],
   "source": [
    "#2.1 一維陣列的軸\n",
    "#對一維陣列來說，只有一個軸，所以 axis 為 0\n",
    "a = np.array([1, 2, 3]) #axis=0\n",
    "a"
   ]
  },
  {
   "cell_type": "code",
   "execution_count": 26,
   "id": "reverse-steam",
   "metadata": {},
   "outputs": [
    {
     "data": {
      "text/plain": [
       "array([[0, 1],\n",
       "       [2, 3],\n",
       "       [4, 5]])"
      ]
     },
     "execution_count": 26,
     "metadata": {},
     "output_type": "execute_result"
    }
   ],
   "source": [
    "#2.2 二維陣列的軸\n",
    "#二維陣列的 ndim 為 2，也就是會有 2 個軸\n",
    "#軸 0 就是沿著 row 的軸\n",
    "#軸 1 是沿著 column 的軸\n",
    "a = np.arange(6).reshape((3,2))\n",
    "a"
   ]
  },
  {
   "cell_type": "markdown",
   "id": "normal-plate",
   "metadata": {},
   "source": [
    "2.3 三維陣列的軸\n",
    "三維陣列有 3 個軸。可以理解軸的順序是\"由外而內\"、\"由row而column\"。\n",
    "\n",
    "以前一天範例程式中三維陣列的例子來看，可以理解為 2 個 4 \\times× 3 的二維陣列排在一起。"
   ]
  },
  {
   "cell_type": "code",
   "execution_count": 27,
   "id": "muslim-sperm",
   "metadata": {},
   "outputs": [
    {
     "data": {
      "text/plain": [
       "array([[[ 1,  2,  3],\n",
       "        [ 4,  5,  6],\n",
       "        [ 7,  8,  9],\n",
       "        [10, 11, 12]],\n",
       "\n",
       "       [[ 1,  2,  3],\n",
       "        [ 4,  5,  6],\n",
       "        [ 7,  8,  9],\n",
       "        [10, 11, 12]]])"
      ]
     },
     "execution_count": 27,
     "metadata": {},
     "output_type": "execute_result"
    }
   ],
   "source": [
    "#由外而內\n",
    "#由row而column\n",
    "#2*4*3\n",
    "#三維陣列\n",
    "a = np.array([[[1,2,3],[4,5,6],[7,8,9],[10,11,12]],\n",
    "              [[1,2,3],[4,5,6],[7,8,9],[10,11,12]]])\n",
    "a"
   ]
  },
  {
   "cell_type": "code",
   "execution_count": 28,
   "id": "adjustable-poverty",
   "metadata": {},
   "outputs": [
    {
     "data": {
      "text/plain": [
       "(2, 4, 3)"
      ]
     },
     "execution_count": 28,
     "metadata": {},
     "output_type": "execute_result"
    }
   ],
   "source": [
    "#查詢多維陣列中的軸\n",
    "a.shape #2*4*3"
   ]
  },
  {
   "cell_type": "code",
   "execution_count": 30,
   "id": "purple-joint",
   "metadata": {},
   "outputs": [
    {
     "data": {
      "text/plain": [
       "array([[ 2,  4,  6],\n",
       "       [ 8, 10, 12],\n",
       "       [14, 16, 18],\n",
       "       [20, 22, 24]])"
      ]
     },
     "execution_count": 30,
     "metadata": {},
     "output_type": "execute_result"
    }
   ],
   "source": [
    "#沿軸對元素做加總，call sum()函式並指定axis\n",
    "a.sum(axis=0)"
   ]
  },
  {
   "cell_type": "code",
   "execution_count": 31,
   "id": "fancy-choice",
   "metadata": {},
   "outputs": [
    {
     "data": {
      "text/plain": [
       "array([[22, 26, 30],\n",
       "       [22, 26, 30]])"
      ]
     },
     "execution_count": 31,
     "metadata": {},
     "output_type": "execute_result"
    }
   ],
   "source": [
    "#沿軸對元素做加總，call sum()函式並指定axis\n",
    "a.sum(axis=1)"
   ]
  },
  {
   "cell_type": "code",
   "execution_count": 32,
   "id": "formed-breath",
   "metadata": {},
   "outputs": [
    {
     "data": {
      "text/plain": [
       "array([[ 6, 15, 24, 33],\n",
       "       [ 6, 15, 24, 33]])"
      ]
     },
     "execution_count": 32,
     "metadata": {},
     "output_type": "execute_result"
    }
   ],
   "source": [
    "#沿軸對元素做加總，call sum()函式並指定axis\n",
    "a.sum(axis=2)"
   ]
  },
  {
   "cell_type": "markdown",
   "id": "conventional-former",
   "metadata": {},
   "source": [
    "3. NumPy 陣列的合併與分割"
   ]
  },
  {
   "cell_type": "code",
   "execution_count": 33,
   "id": "least-hungarian",
   "metadata": {},
   "outputs": [
    {
     "data": {
      "text/plain": [
       "array([[0, 1],\n",
       "       [2, 3],\n",
       "       [4, 5],\n",
       "       [6, 7],\n",
       "       [8, 9]])"
      ]
     },
     "execution_count": 33,
     "metadata": {},
     "output_type": "execute_result"
    }
   ],
   "source": [
    "#np.reshape(a, new_shape, order='C') #按row排序\n",
    "#np.reshape(a, new_shape, order='F') #按column排序\n",
    "a = np.arange(10).reshape(5,2) #5*2陣列\n",
    "a"
   ]
  },
  {
   "cell_type": "code",
   "execution_count": 34,
   "id": "further-eleven",
   "metadata": {},
   "outputs": [
    {
     "data": {
      "text/plain": [
       "array([[0, 1],\n",
       "       [2, 3],\n",
       "       [4, 5]])"
      ]
     },
     "execution_count": 34,
     "metadata": {},
     "output_type": "execute_result"
    }
   ],
   "source": [
    "#np.reshape(a, new_shape, order='C') #按row排序\n",
    "#np.reshape(a, new_shape, order='F') #按column排序\n",
    "b = np.arange(6).reshape(3,2) #3*2陣列\n",
    "b"
   ]
  },
  {
   "cell_type": "markdown",
   "id": "generous-witness",
   "metadata": {},
   "source": [
    "3.1 合併：concatenate(), stack(), hstack(), vstack()\n",
    "使用 concatenate() 進行陣列的合併時，須留意除了指定的軸之外 (預設為 axis 0)\n",
    "其他軸的形狀必須完全相同，合併才不會發生錯誤。"
   ]
  },
  {
   "cell_type": "code",
   "execution_count": 35,
   "id": "electrical-reynolds",
   "metadata": {},
   "outputs": [
    {
     "data": {
      "text/plain": [
       "array([[0, 1],\n",
       "       [2, 3],\n",
       "       [4, 5],\n",
       "       [6, 7],\n",
       "       [8, 9],\n",
       "       [0, 1],\n",
       "       [2, 3],\n",
       "       [4, 5]])"
      ]
     },
     "execution_count": 35,
     "metadata": {},
     "output_type": "execute_result"
    }
   ],
   "source": [
    "#numpy.concatenate((a1, a2, ...), axis=0, out=None)\n",
    "np.concatenate((a, b)) #合併兩個陣列"
   ]
  },
  {
   "cell_type": "code",
   "execution_count": 36,
   "id": "electrical-reminder",
   "metadata": {},
   "outputs": [
    {
     "data": {
      "text/plain": [
       "array([[0, 1],\n",
       "       [2, 3],\n",
       "       [4, 5],\n",
       "       [0, 1],\n",
       "       [2, 3],\n",
       "       [4, 5],\n",
       "       [6, 7],\n",
       "       [8, 9]])"
      ]
     },
     "execution_count": 36,
     "metadata": {},
     "output_type": "execute_result"
    }
   ],
   "source": [
    "np.concatenate((b, a)) #合併兩個陣列"
   ]
  },
  {
   "cell_type": "code",
   "execution_count": 40,
   "id": "handed-failing",
   "metadata": {},
   "outputs": [
    {
     "data": {
      "text/plain": [
       "array([[0, 1],\n",
       "       [2, 3],\n",
       "       [4, 5],\n",
       "       [6, 7],\n",
       "       [8, 9]])"
      ]
     },
     "execution_count": 40,
     "metadata": {},
     "output_type": "execute_result"
    }
   ],
   "source": [
    "c = np.arange(10).reshape(5, 2) #5*2陣列\n",
    "c"
   ]
  },
  {
   "cell_type": "code",
   "execution_count": 37,
   "id": "placed-indonesia",
   "metadata": {},
   "outputs": [
    {
     "data": {
      "text/plain": [
       "array([[[0, 1],\n",
       "        [0, 1]],\n",
       "\n",
       "       [[2, 3],\n",
       "        [2, 3]],\n",
       "\n",
       "       [[4, 5],\n",
       "        [4, 5]],\n",
       "\n",
       "       [[6, 7],\n",
       "        [6, 7]],\n",
       "\n",
       "       [[8, 9],\n",
       "        [8, 9]]])"
      ]
     },
     "execution_count": 37,
     "metadata": {},
     "output_type": "execute_result"
    }
   ],
   "source": [
    "#numpy.stack(arrays, axis=0, out=None)\n",
    "#根據指定的軸進行合併\n",
    "\n",
    "np.stack((a, c), axis=1) #根據axis=1合併兩個陣列"
   ]
  },
  {
   "cell_type": "code",
   "execution_count": 38,
   "id": "mental-importance",
   "metadata": {},
   "outputs": [
    {
     "data": {
      "text/plain": [
       "array([[[0, 1],\n",
       "        [2, 3],\n",
       "        [4, 5],\n",
       "        [6, 7],\n",
       "        [8, 9]],\n",
       "\n",
       "       [[0, 1],\n",
       "        [2, 3],\n",
       "        [4, 5],\n",
       "        [6, 7],\n",
       "        [8, 9]]])"
      ]
     },
     "execution_count": 38,
     "metadata": {},
     "output_type": "execute_result"
    }
   ],
   "source": [
    "#numpy.stack(arrays, axis=0, out=None)\n",
    "#根據指定的軸進行合併\n",
    "np.stack((a, c), axis=0) #根據axis=0合併兩個陣列"
   ]
  },
  {
   "cell_type": "code",
   "execution_count": 41,
   "id": "juvenile-intention",
   "metadata": {},
   "outputs": [
    {
     "data": {
      "text/plain": [
       "array([[0, 1, 0, 1],\n",
       "       [2, 3, 2, 3],\n",
       "       [4, 5, 4, 5],\n",
       "       [6, 7, 6, 7],\n",
       "       [8, 9, 8, 9]])"
      ]
     },
     "execution_count": 41,
     "metadata": {},
     "output_type": "execute_result"
    }
   ],
   "source": [
    "#numpy.hstack(tup)\n",
    "#根據水平軸進行合併\n",
    "#除了指定的軸之外，其他軸的形狀必須完全相同才可以合併。\n",
    "np.hstack((a, c))"
   ]
  },
  {
   "cell_type": "code",
   "execution_count": 42,
   "id": "stretch-dispatch",
   "metadata": {},
   "outputs": [
    {
     "data": {
      "text/plain": [
       "array([[0, 1],\n",
       "       [2, 3],\n",
       "       [4, 5],\n",
       "       [6, 7],\n",
       "       [8, 9],\n",
       "       [0, 1],\n",
       "       [2, 3],\n",
       "       [4, 5],\n",
       "       [6, 7],\n",
       "       [8, 9]])"
      ]
     },
     "execution_count": 42,
     "metadata": {},
     "output_type": "execute_result"
    }
   ],
   "source": [
    "#numpy.vstack(tup)\n",
    "#根據垂直軸進行合併\n",
    "#除了指定的軸之外，其他軸的形狀必須完全相同才可以合併。\n",
    "np.vstack((a, c))"
   ]
  },
  {
   "cell_type": "code",
   "execution_count": 43,
   "id": "enormous-breathing",
   "metadata": {},
   "outputs": [
    {
     "data": {
      "text/plain": [
       "array([[0, 1],\n",
       "       [2, 3],\n",
       "       [4, 5],\n",
       "       [6, 7],\n",
       "       [8, 9],\n",
       "       [0, 1],\n",
       "       [2, 3],\n",
       "       [4, 5]])"
      ]
     },
     "execution_count": 43,
     "metadata": {},
     "output_type": "execute_result"
    }
   ],
   "source": [
    "#numpy.vstack(tup)\n",
    "#根據垂直軸進行合併\n",
    "#除了指定的軸之外，其他軸的形狀必須完全相同才可以合併。\n",
    "np.vstack((a, b))"
   ]
  },
  {
   "cell_type": "markdown",
   "id": "joint-closing",
   "metadata": {},
   "source": [
    "3.2 分割"
   ]
  },
  {
   "cell_type": "code",
   "execution_count": 44,
   "id": "superior-humidity",
   "metadata": {},
   "outputs": [
    {
     "data": {
      "text/plain": [
       "array([[0, 1],\n",
       "       [2, 3],\n",
       "       [4, 5],\n",
       "       [6, 7],\n",
       "       [8, 9]])"
      ]
     },
     "execution_count": 44,
     "metadata": {},
     "output_type": "execute_result"
    }
   ],
   "source": [
    "a = np.arange(10).reshape(5, 2) #5*2陣列\n",
    "a"
   ]
  },
  {
   "cell_type": "code",
   "execution_count": 45,
   "id": "sacred-capitol",
   "metadata": {},
   "outputs": [
    {
     "data": {
      "text/plain": [
       "[array([[0, 1]]),\n",
       " array([[2, 3]]),\n",
       " array([[4, 5]]),\n",
       " array([[6, 7]]),\n",
       " array([[8, 9]])]"
      ]
     },
     "execution_count": 45,
     "metadata": {},
     "output_type": "execute_result"
    }
   ],
   "source": [
    "#split()\n",
    "#numpy.split(array, indices_or_sections, axis=0)\n",
    "#依axis=0等分split\n",
    "np.split(a, 5)"
   ]
  },
  {
   "cell_type": "markdown",
   "id": "nervous-amplifier",
   "metadata": {},
   "source": [
    "4. 迭代\n",
    "一維陣列的迭代，跟 Python 集合型別 (例如 List) 的迭代相同"
   ]
  },
  {
   "cell_type": "code",
   "execution_count": 46,
   "id": "heated-ocean",
   "metadata": {},
   "outputs": [
    {
     "data": {
      "text/plain": [
       "array([0, 1, 2, 3, 4])"
      ]
     },
     "execution_count": 46,
     "metadata": {},
     "output_type": "execute_result"
    }
   ],
   "source": [
    "a = np.arange(5)\n",
    "a"
   ]
  },
  {
   "cell_type": "code",
   "execution_count": 47,
   "id": "under-documentation",
   "metadata": {},
   "outputs": [
    {
     "name": "stdout",
     "output_type": "stream",
     "text": [
      "0\n",
      "1\n",
      "2\n",
      "3\n",
      "4\n"
     ]
    }
   ],
   "source": [
    "for i in a:\n",
    "    print(i)"
   ]
  },
  {
   "cell_type": "code",
   "execution_count": 48,
   "id": "optimum-density",
   "metadata": {},
   "outputs": [
    {
     "data": {
      "text/plain": [
       "array([[0, 1, 2],\n",
       "       [3, 4, 5]])"
      ]
     },
     "execution_count": 48,
     "metadata": {},
     "output_type": "execute_result"
    }
   ],
   "source": [
    "#多維陣列的迭代則以 axis 0 為準。下面以二維陣列為例，列出各 row 的元素。\n",
    "b = np.arange(6).reshape(2, 3) #2*3陣列\n",
    "b"
   ]
  },
  {
   "cell_type": "code",
   "execution_count": 49,
   "id": "featured-niagara",
   "metadata": {},
   "outputs": [
    {
     "name": "stdout",
     "output_type": "stream",
     "text": [
      "[0 1 2]\n",
      "[3 4 5]\n"
     ]
    }
   ],
   "source": [
    "for row in b: ##多維陣列的迭代則以 axis=0 為準\n",
    "    print(row)"
   ]
  },
  {
   "cell_type": "code",
   "execution_count": 50,
   "id": "residential-exemption",
   "metadata": {},
   "outputs": [
    {
     "name": "stdout",
     "output_type": "stream",
     "text": [
      "0\n",
      "1\n",
      "2\n",
      "3\n",
      "4\n",
      "5\n"
     ]
    }
   ],
   "source": [
    "#如果要列出多維陣列所有元素的話，可以配合 flat 屬性\n",
    "for row in b.flat: #配合 flat 屬性\n",
    "    print(row)"
   ]
  },
  {
   "cell_type": "markdown",
   "id": "united-cabinet",
   "metadata": {},
   "source": [
    "5. 搜尋與排序"
   ]
  },
  {
   "cell_type": "code",
   "execution_count": 51,
   "id": "colonial-emphasis",
   "metadata": {},
   "outputs": [
    {
     "data": {
      "text/plain": [
       "array([11,  4, 12,  1,  9,  9, 10,  5, 18, 13])"
      ]
     },
     "execution_count": 51,
     "metadata": {},
     "output_type": "execute_result"
    }
   ],
   "source": [
    "#5.1 顯示最大值和最小值\n",
    "#numpy.amax(array, axis=None, keepdims=)\n",
    "#numpy.amin(array, axis=None, keepdims=)\n",
    "a = np.random.randint(1, 20, 10) #>=1 and <20,挑10組\n",
    "a"
   ]
  },
  {
   "cell_type": "code",
   "execution_count": 53,
   "id": "shared-burton",
   "metadata": {},
   "outputs": [
    {
     "data": {
      "text/plain": [
       "18"
      ]
     },
     "execution_count": 53,
     "metadata": {},
     "output_type": "execute_result"
    }
   ],
   "source": [
    "#陣列中最大的元素\n",
    "#numpy.amax(array, axis=None, keepdims=)\n",
    "np.amax(a)"
   ]
  },
  {
   "cell_type": "code",
   "execution_count": 54,
   "id": "foster-commissioner",
   "metadata": {},
   "outputs": [
    {
     "data": {
      "text/plain": [
       "1"
      ]
     },
     "execution_count": 54,
     "metadata": {},
     "output_type": "execute_result"
    }
   ],
   "source": [
    "#陣列中最小的元素\n",
    "#numpy.amin(array, axis=None, keepdims=)\n",
    "np.amin(a)"
   ]
  },
  {
   "cell_type": "code",
   "execution_count": 55,
   "id": "ranging-bundle",
   "metadata": {},
   "outputs": [
    {
     "data": {
      "text/plain": [
       "array([[11,  4, 12,  1,  9],\n",
       "       [ 9, 10,  5, 18, 13]])"
      ]
     },
     "execution_count": 55,
     "metadata": {},
     "output_type": "execute_result"
    }
   ],
   "source": [
    "#如果是多維陣列的話，用法也是相同，也可以依照軸列出最大或最小值。\n",
    "b = a.reshape(2, 5) #2*5陣列\n",
    "b"
   ]
  },
  {
   "cell_type": "code",
   "execution_count": 56,
   "id": "experimental-barbados",
   "metadata": {},
   "outputs": [
    {
     "data": {
      "text/plain": [
       "array([[18]])"
      ]
     },
     "execution_count": 56,
     "metadata": {},
     "output_type": "execute_result"
    }
   ],
   "source": [
    "# 若設定 keepdims=True，結果會保留原陣列的維度來顯示。\n",
    "#numpy.amax(array, axis=None, keepdims=)\n",
    "np.amax(b, keepdims=True)"
   ]
  },
  {
   "cell_type": "code",
   "execution_count": 61,
   "id": "unlikely-ordering",
   "metadata": {},
   "outputs": [
    {
     "data": {
      "text/plain": [
       "18"
      ]
     },
     "execution_count": 61,
     "metadata": {},
     "output_type": "execute_result"
    }
   ],
   "source": [
    "# 若設定 keepdims=False，結果不會保留原陣列的維度來顯示。\n",
    "#numpy.amax(array, axis=None, keepdims=)\n",
    "np.amax(b, keepdims=False)"
   ]
  },
  {
   "cell_type": "code",
   "execution_count": 62,
   "id": "signed-medication",
   "metadata": {},
   "outputs": [
    {
     "data": {
      "text/plain": [
       "array([11, 10, 12, 18, 13])"
      ]
     },
     "execution_count": 62,
     "metadata": {},
     "output_type": "execute_result"
    }
   ],
   "source": [
    "#列出各row最大值\n",
    "#ndarray.max(axis=None, keepdims=False)\n",
    "b.max(axis=0)"
   ]
  },
  {
   "cell_type": "code",
   "execution_count": 63,
   "id": "piano-growing",
   "metadata": {},
   "outputs": [
    {
     "data": {
      "text/plain": [
       "array([12, 18])"
      ]
     },
     "execution_count": 63,
     "metadata": {},
     "output_type": "execute_result"
    }
   ],
   "source": [
    "#列出各row最大值\n",
    "#ndarray.max(axis=None, keepdims=False)\n",
    "b.max(axis=1)"
   ]
  },
  {
   "cell_type": "code",
   "execution_count": 64,
   "id": "front-ready",
   "metadata": {},
   "outputs": [
    {
     "data": {
      "text/plain": [
       "array([11, 10, 12, 18, 13])"
      ]
     },
     "execution_count": 64,
     "metadata": {},
     "output_type": "execute_result"
    }
   ],
   "source": [
    "# 同樣的 amax 也可以依軸列出各 row 最大值\n",
    "#numpy.amax(array, axis=None, keepdims=)\n",
    "np.amax(b, axis=0)"
   ]
  },
  {
   "cell_type": "code",
   "execution_count": 65,
   "id": "responsible-roads",
   "metadata": {},
   "outputs": [
    {
     "data": {
      "text/plain": [
       "array([12, 18])"
      ]
     },
     "execution_count": 65,
     "metadata": {},
     "output_type": "execute_result"
    }
   ],
   "source": [
    "# 同樣的 amax 也可以依軸列出各 row 最大值\n",
    "#numpy.amax(array, axis=None, keepdims=)\n",
    "np.amax(b, axis=1)"
   ]
  },
  {
   "cell_type": "code",
   "execution_count": 66,
   "id": "oriented-progress",
   "metadata": {},
   "outputs": [
    {
     "data": {
      "text/plain": [
       "array([9, 4, 5, 1, 9])"
      ]
     },
     "execution_count": 66,
     "metadata": {},
     "output_type": "execute_result"
    }
   ],
   "source": [
    "#ndarray.min(axis=None, keepdims=False)\n",
    "# 列出各 column 最小值\n",
    "b.min(axis=0)"
   ]
  },
  {
   "cell_type": "markdown",
   "id": "vocational-rebate",
   "metadata": {},
   "source": [
    "5.2 顯示最大值和最小值的索引"
   ]
  },
  {
   "cell_type": "code",
   "execution_count": 67,
   "id": "gross-sound",
   "metadata": {},
   "outputs": [
    {
     "data": {
      "text/plain": [
       "array([[13, 16,  1,  4],\n",
       "       [ 4,  8, 10, 19],\n",
       "       [ 5,  7, 13,  2]])"
      ]
     },
     "execution_count": 67,
     "metadata": {},
     "output_type": "execute_result"
    }
   ],
   "source": [
    "np.random.seed(0)\n",
    "a = np.random.randint(1, 20, size=(3, 4)) #>=1 and <20; 3*4陣列\n",
    "a"
   ]
  },
  {
   "cell_type": "code",
   "execution_count": 68,
   "id": "thrown-doubt",
   "metadata": {},
   "outputs": [
    {
     "data": {
      "text/plain": [
       "7"
      ]
     },
     "execution_count": 68,
     "metadata": {},
     "output_type": "execute_result"
    }
   ],
   "source": [
    "#若沒有指定軸的話，argmax() 與 argmin() 會回傳多維陣列展平後的索引。\n",
    "#numpy.argmax(array, axis=None)\n",
    "np.argmax(a)"
   ]
  },
  {
   "cell_type": "code",
   "execution_count": 69,
   "id": "composed-rocket",
   "metadata": {},
   "outputs": [
    {
     "data": {
      "text/plain": [
       "2"
      ]
     },
     "execution_count": 69,
     "metadata": {},
     "output_type": "execute_result"
    }
   ],
   "source": [
    "#numpy.argmin(array, axis=None)\n",
    "np.argmin(a) #沒有指定軸axis的話, 回傳多維陣列展平後的索引"
   ]
  },
  {
   "cell_type": "code",
   "execution_count": 70,
   "id": "adaptive-participation",
   "metadata": {},
   "outputs": [
    {
     "data": {
      "text/plain": [
       "array([0, 0, 2, 1], dtype=int64)"
      ]
     },
     "execution_count": 70,
     "metadata": {},
     "output_type": "execute_result"
    }
   ],
   "source": [
    "# 列出各 column 的最大值索引\n",
    "#numpy.argmax(array, axis=None)\n",
    "np.argmax(a, axis=0)"
   ]
  },
  {
   "cell_type": "code",
   "execution_count": 71,
   "id": "reasonable-works",
   "metadata": {},
   "outputs": [
    {
     "data": {
      "text/plain": [
       "array([1, 3, 2], dtype=int64)"
      ]
     },
     "execution_count": 71,
     "metadata": {},
     "output_type": "execute_result"
    }
   ],
   "source": [
    "# 列出各 row 的最大值索引\n",
    "#numpy.argmax(array, axis=None)\n",
    "np.argmax(a, axis=1)"
   ]
  },
  {
   "cell_type": "code",
   "execution_count": 72,
   "id": "rocky-robert",
   "metadata": {},
   "outputs": [
    {
     "data": {
      "text/plain": [
       "2"
      ]
     },
     "execution_count": 72,
     "metadata": {},
     "output_type": "execute_result"
    }
   ],
   "source": [
    "# 元素值 1 為最小值，展平後的索引值為 2。\n",
    "#ndarray.argmin(axis=None)\n",
    "a.argmin() ##沒有指定軸axis的話, 回傳多維陣列展平後的索引"
   ]
  },
  {
   "cell_type": "code",
   "execution_count": 73,
   "id": "animal-mechanism",
   "metadata": {},
   "outputs": [
    {
     "data": {
      "text/plain": [
       "array([1, 2, 0, 2], dtype=int64)"
      ]
     },
     "execution_count": 73,
     "metadata": {},
     "output_type": "execute_result"
    }
   ],
   "source": [
    "#ndarray.argmin(axis=None)\n",
    "# 列出各 column 的最小值索引\n",
    "a.argmin(axis=0)"
   ]
  },
  {
   "cell_type": "code",
   "execution_count": 74,
   "id": "gorgeous-triple",
   "metadata": {},
   "outputs": [
    {
     "data": {
      "text/plain": [
       "array([2, 0, 3], dtype=int64)"
      ]
     },
     "execution_count": 74,
     "metadata": {},
     "output_type": "execute_result"
    }
   ],
   "source": [
    "#ndarray.argmin(axis=None)\n",
    "# 列出各 row 的最小值索引\n",
    "a.argmin(axis=1)"
   ]
  },
  {
   "cell_type": "markdown",
   "id": "comfortable-prize",
   "metadata": {},
   "source": [
    "5.3 找出符合條件的元素"
   ]
  },
  {
   "cell_type": "code",
   "execution_count": 75,
   "id": "spoken-booth",
   "metadata": {},
   "outputs": [
    {
     "data": {
      "text/plain": [
       "array([[13, 16,  1,  4],\n",
       "       [ 4,  8, 10, 19],\n",
       "       [ 5,  7, 13,  2]])"
      ]
     },
     "execution_count": 75,
     "metadata": {},
     "output_type": "execute_result"
    }
   ],
   "source": [
    "a"
   ]
  },
  {
   "cell_type": "code",
   "execution_count": 76,
   "id": "elementary-secretary",
   "metadata": {},
   "outputs": [
    {
     "data": {
      "text/plain": [
       "(array([0, 0, 1, 2], dtype=int64), array([0, 1, 3, 2], dtype=int64))"
      ]
     },
     "execution_count": 76,
     "metadata": {},
     "output_type": "execute_result"
    }
   ],
   "source": [
    "#numpy.where(condition[, x, y])\n",
    "#傳入條件式，回傳值為符合條件的元素索引\n",
    "#以下面二維陣列為例，回傳的索引陣列要合併一起看\n",
    "np.where(a > 10)\n",
    "#以下均大於10\n",
    "#a[0,0]=13\n",
    "#a[0,1]=16\n",
    "#a[1,3]=19\n",
    "#a[2,2]=13"
   ]
  },
  {
   "cell_type": "code",
   "execution_count": 77,
   "id": "scientific-revolution",
   "metadata": {},
   "outputs": [
    {
     "data": {
      "text/plain": [
       "array([['Y', 'Y', 'N', 'N'],\n",
       "       ['N', 'N', 'N', 'Y'],\n",
       "       ['N', 'N', 'Y', 'N']], dtype='<U1')"
      ]
     },
     "execution_count": 77,
     "metadata": {},
     "output_type": "execute_result"
    }
   ],
   "source": [
    "#若是設定 x, y 引數的話，可將各元素取代掉\n",
    "#如果元素值大於 10 的話就用 \"Y\" 來替代，反之則是 \"N\"\n",
    "np.where(a > 10, \"Y\", \"N\")"
   ]
  },
  {
   "cell_type": "markdown",
   "id": "incorrect-creativity",
   "metadata": {},
   "source": [
    "5.4 nonzero\n",
    "nonzero 等同於 np.where(array != 0) 的語法\n",
    "回傳符合非 0 條件的元素索引值"
   ]
  },
  {
   "cell_type": "code",
   "execution_count": 92,
   "id": "electoral-dietary",
   "metadata": {},
   "outputs": [
    {
     "data": {
      "text/plain": [
       "array([0, 0, 3, 2, 3, 0, 2, 1, 3, 2])"
      ]
     },
     "execution_count": 92,
     "metadata": {},
     "output_type": "execute_result"
    }
   ],
   "source": [
    "np.random.seed(2)\n",
    "a = np.random.randint(0, 5, 10) #>=0 and <5; 挑10組\n",
    "a"
   ]
  },
  {
   "cell_type": "code",
   "execution_count": 93,
   "id": "statutory-appearance",
   "metadata": {},
   "outputs": [
    {
     "data": {
      "text/plain": [
       "(array([2, 3, 4, 6, 7, 8, 9], dtype=int64),)"
      ]
     },
     "execution_count": 93,
     "metadata": {},
     "output_type": "execute_result"
    }
   ],
   "source": [
    "#numpy.nonzero(array)\n",
    "np.nonzero(a)"
   ]
  },
  {
   "cell_type": "code",
   "execution_count": 94,
   "id": "declared-familiar",
   "metadata": {},
   "outputs": [
    {
     "data": {
      "text/plain": [
       "(array([2, 3, 4, 6, 7, 8, 9], dtype=int64),)"
      ]
     },
     "execution_count": 94,
     "metadata": {},
     "output_type": "execute_result"
    }
   ],
   "source": [
    "#ndarray.nonzero()\n",
    "a.nonzero()"
   ]
  },
  {
   "cell_type": "markdown",
   "id": "instrumental-controversy",
   "metadata": {},
   "source": [
    "5.5 排序\n",
    "要對陣列進行排序可以使用 sort() 與 argsort()\n",
    "sort() 回傳的是排序後的陣列\n",
    "argsort() 回傳的是排序後的陣列索引值"
   ]
  },
  {
   "cell_type": "code",
   "execution_count": 103,
   "id": "beautiful-springfield",
   "metadata": {},
   "outputs": [
    {
     "data": {
      "text/plain": [
       "array([10,  3,  8,  0, 19, 10, 11,  9, 10,  6])"
      ]
     },
     "execution_count": 103,
     "metadata": {},
     "output_type": "execute_result"
    }
   ],
   "source": [
    "np.random.seed(3)\n",
    "a = np.random.randint(0, 20, 10) #>=0 and <20; 挑出10組\n",
    "a"
   ]
  },
  {
   "cell_type": "code",
   "execution_count": 104,
   "id": "proper-formula",
   "metadata": {},
   "outputs": [
    {
     "data": {
      "text/plain": [
       "array([ 0,  3,  6,  8,  9, 10, 10, 10, 11, 19])"
      ]
     },
     "execution_count": 104,
     "metadata": {},
     "output_type": "execute_result"
    }
   ],
   "source": [
    "#numpy.sort(a, axis=-1, kind=None, order=None)\n",
    "np.sort(a)"
   ]
  },
  {
   "cell_type": "code",
   "execution_count": 106,
   "id": "compound-montgomery",
   "metadata": {},
   "outputs": [
    {
     "data": {
      "text/plain": [
       "array([3, 1, 9, 2, 7, 0, 5, 8, 6, 4], dtype=int64)"
      ]
     },
     "execution_count": 106,
     "metadata": {},
     "output_type": "execute_result"
    }
   ],
   "source": [
    "#ndarray.argsort()\n",
    "a.argsort()"
   ]
  },
  {
   "cell_type": "code",
   "execution_count": 109,
   "id": "specified-sleeping",
   "metadata": {},
   "outputs": [
    {
     "data": {
      "text/plain": [
       "array([ 0,  3,  6,  8,  9, 10, 10, 10, 11, 19])"
      ]
     },
     "execution_count": 109,
     "metadata": {},
     "output_type": "execute_result"
    }
   ],
   "source": [
    "#陣列物件.sort() 的語法會進行 in-place 排序，也就是原本的陣列內容會跟著改變\n",
    "#ndarray.sort()\n",
    "a.sort()\n",
    "a"
   ]
  },
  {
   "cell_type": "code",
   "execution_count": 110,
   "id": "joined-string",
   "metadata": {},
   "outputs": [
    {
     "data": {
      "text/plain": [
       "array([[ 0, 12,  7, 14],\n",
       "       [17,  2,  2,  1],\n",
       "       [19,  5,  8, 14],\n",
       "       [ 1, 10,  7, 11],\n",
       "       [ 1, 15, 16,  5]])"
      ]
     },
     "execution_count": 110,
     "metadata": {},
     "output_type": "execute_result"
    }
   ],
   "source": [
    "#多維陣列在排序時可以指定要依據的軸\n",
    "b = np.random.randint(0, 20, size=(5, 4)) #>=0 and <20; 5*4陣列\n",
    "b"
   ]
  },
  {
   "cell_type": "code",
   "execution_count": 111,
   "id": "loose-education",
   "metadata": {},
   "outputs": [
    {
     "data": {
      "text/plain": [
       "array([[ 0,  2,  2,  1],\n",
       "       [ 1,  5,  7,  5],\n",
       "       [ 1, 10,  7, 11],\n",
       "       [17, 12,  8, 14],\n",
       "       [19, 15, 16, 14]])"
      ]
     },
     "execution_count": 111,
     "metadata": {},
     "output_type": "execute_result"
    }
   ],
   "source": [
    "#numpy.sort(a, axis=-1, kind=None, order=None)\n",
    "np.sort(b, axis=0) #各 column排序"
   ]
  },
  {
   "cell_type": "code",
   "execution_count": 112,
   "id": "immune-ensemble",
   "metadata": {},
   "outputs": [
    {
     "data": {
      "text/plain": [
       "array([[ 0,  7, 12, 14],\n",
       "       [ 1,  2,  2, 17],\n",
       "       [ 5,  8, 14, 19],\n",
       "       [ 1,  7, 10, 11],\n",
       "       [ 1,  5, 15, 16]])"
      ]
     },
     "execution_count": 112,
     "metadata": {},
     "output_type": "execute_result"
    }
   ],
   "source": [
    "#numpy.sort(a, axis=-1, kind=None, order=None)\n",
    "np.sort(b, axis=1) #各row排序"
   ]
  },
  {
   "cell_type": "markdown",
   "id": "regulated-bangladesh",
   "metadata": {},
   "source": [
    "排序支援多種不同的排序算法，包括 quicksort (預設)、heapsort、mergesort、timesort，在 kind 引數指定即可。依照官網文件指出排序速度是以 quicksort 最快，mergesort / timesort 其次，之後是 heapsort。"
   ]
  },
  {
   "cell_type": "code",
   "execution_count": 114,
   "id": "conditional-browse",
   "metadata": {},
   "outputs": [
    {
     "data": {
      "text/plain": [
       "array([47497106, 31220863, 90851983, ..., 84865679, 58988382, 27070588])"
      ]
     },
     "execution_count": 114,
     "metadata": {},
     "output_type": "execute_result"
    }
   ],
   "source": [
    "c = np.random.randint(0, 100000000, 1000000) #>=0 and <100000000;挑出100,000組\n",
    "c"
   ]
  },
  {
   "cell_type": "code",
   "execution_count": 115,
   "id": "obvious-airplane",
   "metadata": {},
   "outputs": [
    {
     "data": {
      "text/plain": [
       "array([      26,       58,       66, ..., 99999884, 99999914, 99999944])"
      ]
     },
     "execution_count": 115,
     "metadata": {},
     "output_type": "execute_result"
    }
   ],
   "source": [
    "#numpy.sort(a, axis=-1, kind=None, order=None)\n",
    "np.sort(c, kind='heapsort')"
   ]
  }
 ],
 "metadata": {
  "kernelspec": {
   "display_name": "Python 3",
   "language": "python",
   "name": "python3"
  },
  "language_info": {
   "codemirror_mode": {
    "name": "ipython",
    "version": 3
   },
   "file_extension": ".py",
   "mimetype": "text/x-python",
   "name": "python",
   "nbconvert_exporter": "python",
   "pygments_lexer": "ipython3",
   "version": "3.8.6"
  }
 },
 "nbformat": 4,
 "nbformat_minor": 5
}
