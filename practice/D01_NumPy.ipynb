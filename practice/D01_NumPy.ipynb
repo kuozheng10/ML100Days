{
 "cells": [
  {
   "cell_type": "code",
   "execution_count": 1,
   "id": "judicial-frontier",
   "metadata": {},
   "outputs": [
    {
     "data": {
      "text/plain": [
       "'1.19.4'"
      ]
     },
     "execution_count": 1,
     "metadata": {},
     "output_type": "execute_result"
    }
   ],
   "source": [
    "import numpy as np\n",
    "np.__version__"
   ]
  },
  {
   "cell_type": "code",
   "execution_count": 3,
   "id": "returning-mainstream",
   "metadata": {},
   "outputs": [],
   "source": [
    "a = np.array([1,2,3,4,5])"
   ]
  },
  {
   "cell_type": "code",
   "execution_count": 4,
   "id": "breeding-cornwall",
   "metadata": {},
   "outputs": [
    {
     "data": {
      "text/plain": [
       "array([1, 2, 3, 4, 5])"
      ]
     },
     "execution_count": 4,
     "metadata": {},
     "output_type": "execute_result"
    }
   ],
   "source": [
    "a"
   ]
  },
  {
   "cell_type": "code",
   "execution_count": 7,
   "id": "wound-philippines",
   "metadata": {},
   "outputs": [
    {
     "data": {
      "text/plain": [
       "array([0, 1, 2, 3, 4, 5, 6, 7, 8, 9])"
      ]
     },
     "execution_count": 7,
     "metadata": {},
     "output_type": "execute_result"
    }
   ],
   "source": [
    "# 產生 0 - 9 十個數字元素\n",
    "np.arange(10)"
   ]
  },
  {
   "cell_type": "code",
   "execution_count": 9,
   "id": "accepted-arthritis",
   "metadata": {},
   "outputs": [
    {
     "data": {
      "text/plain": [
       "array([ 2,  4,  6,  8, 10])"
      ]
     },
     "execution_count": 9,
     "metadata": {},
     "output_type": "execute_result"
    }
   ],
   "source": [
    "# 產生 2, 4, 6, 8 數字元素; >=2 and <12; 每隔2\n",
    "np.arange(2, 12, 2)"
   ]
  },
  {
   "cell_type": "code",
   "execution_count": 10,
   "id": "competitive-penetration",
   "metadata": {},
   "outputs": [
    {
     "data": {
      "text/plain": [
       "array([1. , 1.5, 2. , 2.5])"
      ]
     },
     "execution_count": 10,
     "metadata": {},
     "output_type": "execute_result"
    }
   ],
   "source": [
    "#浮點數序列; >=1.0 and <3.0; 每隔0.5\n",
    "arange(1.0, 3.0, 0.5, dtype='float64')"
   ]
  },
  {
   "cell_type": "markdown",
   "id": "checked-chance",
   "metadata": {},
   "source": [
    "當在 arange() 使用非整數的間隔值時，有可能會產生不一致的結果，如下例會有時會包含結束值但有時候不會。這時候可以考慮使用 linspace() 函式。"
   ]
  },
  {
   "cell_type": "code",
   "execution_count": 13,
   "id": "upper-healthcare",
   "metadata": {},
   "outputs": [
    {
     "name": "stdout",
     "output_type": "stream",
     "text": [
      "沒有包含結束值: [0.13 0.14]\n",
      "包含結束值: [0.12 0.13 0.14 0.15 0.16]\n"
     ]
    }
   ],
   "source": [
    "a = np.arange(0.13, 0.15, step=0.01)\n",
    "print(\"沒有包含結束值:\", a)\n",
    "b = np.arange(0.12, 0.16, step=0.01)\n",
    "print(\"包含結束值:\", b)"
   ]
  },
  {
   "cell_type": "code",
   "execution_count": 18,
   "id": "interpreted-sympathy",
   "metadata": {},
   "outputs": [
    {
     "data": {
      "text/plain": [
       "array([2, 4, 6, 8])"
      ]
     },
     "execution_count": 18,
     "metadata": {},
     "output_type": "execute_result"
    }
   ],
   "source": [
    "a = np.arange(2, 10, 2)\n",
    "#b = np.linspace(2, 10, num=4, endpoint=False)\n",
    "a\n",
    "#b"
   ]
  },
  {
   "cell_type": "markdown",
   "id": "passive-boxing",
   "metadata": {},
   "source": [
    "建立多維陣列"
   ]
  },
  {
   "cell_type": "code",
   "execution_count": 21,
   "id": "fitting-graduate",
   "metadata": {},
   "outputs": [],
   "source": [
    "#建立三維陣列\n",
    "b = np.array([[[1, 2, 3], [4, 5, 6], [7, 8, 9], [10, 11, 12]],\n",
    "             [[1, 2, 3], [4, 5, 6], [7, 8, 9], [10, 11, 12]]]\n",
    ")"
   ]
  },
  {
   "cell_type": "code",
   "execution_count": 23,
   "id": "italian-kansas",
   "metadata": {},
   "outputs": [
    {
     "name": "stdout",
     "output_type": "stream",
     "text": [
      "[[[ 1  2  3]\n",
      "  [ 4  5  6]\n",
      "  [ 7  8  9]\n",
      "  [10 11 12]]\n",
      "\n",
      " [[ 1  2  3]\n",
      "  [ 4  5  6]\n",
      "  [ 7  8  9]\n",
      "  [10 11 12]]]\n"
     ]
    }
   ],
   "source": [
    "print (b)"
   ]
  },
  {
   "cell_type": "code",
   "execution_count": 24,
   "id": "optimum-upgrade",
   "metadata": {},
   "outputs": [
    {
     "data": {
      "text/plain": [
       "(2, 4, 3)"
      ]
     },
     "execution_count": 24,
     "metadata": {},
     "output_type": "execute_result"
    }
   ],
   "source": [
    "#三維(2*4*3)\n",
    "b.shape"
   ]
  },
  {
   "cell_type": "code",
   "execution_count": 25,
   "id": "critical-headline",
   "metadata": {},
   "outputs": [
    {
     "data": {
      "text/plain": [
       "3"
      ]
     },
     "execution_count": 25,
     "metadata": {},
     "output_type": "execute_result"
    }
   ],
   "source": [
    "#要查看多維陣列的維度數目，可以查看陣列的 ndim 屬性\n",
    "b.ndim"
   ]
  },
  {
   "cell_type": "code",
   "execution_count": 28,
   "id": "czech-warrior",
   "metadata": {},
   "outputs": [
    {
     "data": {
      "text/plain": [
       "array([[0.58002875, 0.63805344, 0.27997272, 0.56855119],\n",
       "       [0.47361401, 0.00849396, 0.01330825, 0.11767348],\n",
       "       [0.74135166, 0.101275  , 0.90822017, 0.29224097]])"
      ]
     },
     "execution_count": 28,
     "metadata": {},
     "output_type": "execute_result"
    }
   ],
   "source": [
    "# 隨機產生指定形狀的陣列\n",
    "#二維(3*4)\n",
    "np.random.rand(3, 4) #連續型均勻分布(0~1)"
   ]
  },
  {
   "cell_type": "code",
   "execution_count": 29,
   "id": "artistic-cisco",
   "metadata": {},
   "outputs": [
    {
     "data": {
      "text/plain": [
       "array([[ 0.65509028,  0.61032329,  0.38169431,  0.30006681],\n",
       "       [ 0.33789494,  0.62233464,  1.25809267,  0.12658949],\n",
       "       [ 1.33859127,  1.61131623, -0.7192509 ,  2.50669022]])"
      ]
     },
     "execution_count": 29,
     "metadata": {},
     "output_type": "execute_result"
    }
   ],
   "source": [
    "np.random.randn(3, 4) #常態分佈(-1, 1)"
   ]
  },
  {
   "cell_type": "code",
   "execution_count": 30,
   "id": "human-science",
   "metadata": {},
   "outputs": [
    {
     "data": {
      "text/plain": [
       "array([0.6521864 , 0.64437947, 0.34107765, 0.60448302, 0.45416547,\n",
       "       0.35347639, 0.7571691 , 0.43867268, 0.60676196, 0.28280084])"
      ]
     },
     "execution_count": 30,
     "metadata": {},
     "output_type": "execute_result"
    }
   ],
   "source": [
    "#隨機產生一維陣列的元素\n",
    "np.random.random(10) #連續型均勻分布(0.0~1.0)"
   ]
  },
  {
   "cell_type": "code",
   "execution_count": 31,
   "id": "major-investment",
   "metadata": {},
   "outputs": [
    {
     "data": {
      "text/plain": [
       "array([4, 6, 6, 6, 9])"
      ]
     },
     "execution_count": 31,
     "metadata": {},
     "output_type": "execute_result"
    }
   ],
   "source": [
    "#randint((low[, high, size, dtype])) #離散型均勻分布 #整數\n",
    "np.random.randint(1,10, 5) # >=1 and <10; 5組元素 "
   ]
  },
  {
   "cell_type": "code",
   "execution_count": 32,
   "id": "seven-professional",
   "metadata": {},
   "outputs": [
    {
     "data": {
      "text/plain": [
       "array([40, 18, 15, 11, 64])"
      ]
     },
     "execution_count": 32,
     "metadata": {},
     "output_type": "execute_result"
    }
   ],
   "source": [
    "np.random.choice(100, 5) #<100; 5組元素"
   ]
  },
  {
   "cell_type": "code",
   "execution_count": 33,
   "id": "novel-revolution",
   "metadata": {},
   "outputs": [
    {
     "data": {
      "text/plain": [
       "array([ 0,  1,  2,  3,  4,  5,  6,  7,  8,  9, 10, 11, 12, 13, 14, 15, 16,\n",
       "       17, 18, 19])"
      ]
     },
     "execution_count": 33,
     "metadata": {},
     "output_type": "execute_result"
    }
   ],
   "source": [
    "#回傳的元素將不包含結束索引的元素\n",
    "a = np.arange(20)\n",
    "a"
   ]
  },
  {
   "cell_type": "markdown",
   "id": "killing-victoria",
   "metadata": {},
   "source": [
    "2. NumPy陣列的索引和切片 (Slicing)"
   ]
  },
  {
   "cell_type": "code",
   "execution_count": 34,
   "id": "mexican-assessment",
   "metadata": {},
   "outputs": [
    {
     "data": {
      "text/plain": [
       "array([5, 6, 7, 8, 9])"
      ]
     },
     "execution_count": 34,
     "metadata": {},
     "output_type": "execute_result"
    }
   ],
   "source": [
    "a[5:10]"
   ]
  },
  {
   "cell_type": "code",
   "execution_count": 36,
   "id": "southern-bulgaria",
   "metadata": {},
   "outputs": [
    {
     "data": {
      "text/plain": [
       "array([5, 7, 9])"
      ]
     },
     "execution_count": 36,
     "metadata": {},
     "output_type": "execute_result"
    }
   ],
   "source": [
    "a[5:10:2] # >=5, <10; 每隔2"
   ]
  },
  {
   "cell_type": "code",
   "execution_count": 37,
   "id": "cordless-integral",
   "metadata": {},
   "outputs": [
    {
     "data": {
      "text/plain": [
       "19"
      ]
     },
     "execution_count": 37,
     "metadata": {},
     "output_type": "execute_result"
    }
   ],
   "source": [
    "a[-1]"
   ]
  },
  {
   "cell_type": "code",
   "execution_count": 38,
   "id": "successful-injury",
   "metadata": {},
   "outputs": [
    {
     "data": {
      "text/plain": [
       "array([19, 18, 17, 16, 15, 14, 13, 12, 11, 10,  9,  8,  7,  6,  5,  4,  3,\n",
       "        2,  1,  0])"
      ]
     },
     "execution_count": 38,
     "metadata": {},
     "output_type": "execute_result"
    }
   ],
   "source": [
    "#切片如果只有給定 step 值為 -1 的話，則代表是反向取出，元素值是從最後一筆開始取出。\n",
    "a[::-1]"
   ]
  },
  {
   "cell_type": "code",
   "execution_count": 39,
   "id": "higher-chinese",
   "metadata": {},
   "outputs": [
    {
     "data": {
      "text/plain": [
       "array([[1, 2, 3],\n",
       "       [4, 5, 6]])"
      ]
     },
     "execution_count": 39,
     "metadata": {},
     "output_type": "execute_result"
    }
   ],
   "source": [
    "b = np.array([[1, 2, 3], [4, 5, 6]])\n",
    "b"
   ]
  },
  {
   "cell_type": "code",
   "execution_count": 41,
   "id": "through-bottom",
   "metadata": {},
   "outputs": [
    {
     "data": {
      "text/plain": [
       "5"
      ]
     },
     "execution_count": 41,
     "metadata": {},
     "output_type": "execute_result"
    }
   ],
   "source": [
    "b[1, 1]"
   ]
  },
  {
   "cell_type": "code",
   "execution_count": 50,
   "id": "saved-palestinian",
   "metadata": {},
   "outputs": [
    {
     "data": {
      "text/plain": [
       "array([[2, 3],\n",
       "       [5, 6]])"
      ]
     },
     "execution_count": 50,
     "metadata": {},
     "output_type": "execute_result"
    }
   ],
   "source": [
    "b[:, 1:]"
   ]
  }
 ],
 "metadata": {
  "kernelspec": {
   "display_name": "Python 3",
   "language": "python",
   "name": "python3"
  },
  "language_info": {
   "codemirror_mode": {
    "name": "ipython",
    "version": 3
   },
   "file_extension": ".py",
   "mimetype": "text/x-python",
   "name": "python",
   "nbconvert_exporter": "python",
   "pygments_lexer": "ipython3",
   "version": "3.8.6"
  }
 },
 "nbformat": 4,
 "nbformat_minor": 5
}
