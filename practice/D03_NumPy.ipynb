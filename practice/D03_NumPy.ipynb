{
 "cells": [
  {
   "cell_type": "code",
   "execution_count": 29,
   "id": "cultural-destination",
   "metadata": {},
   "outputs": [],
   "source": [
    "import numpy as np"
   ]
  },
  {
   "cell_type": "code",
   "execution_count": null,
   "id": "stretch-composite",
   "metadata": {},
   "outputs": [],
   "source": [
    "#np.add(a, b) #加法\n",
    "#np.substract(a, b) #減法\n",
    "#np.multiply(a, b) #乘法\n",
    "#np.divide(a, b) #除法\n",
    "#np.mod(a, b) #求餘數"
   ]
  },
  {
   "cell_type": "markdown",
   "id": "supported-cartoon",
   "metadata": {},
   "source": [
    "運算的時候，陣列的形狀 (shape) 必須相同，\n",
    "或是遵循廣播 (broadcastiing) 規則，才能正確進行 element-wise 運算"
   ]
  },
  {
   "cell_type": "code",
   "execution_count": 4,
   "id": "extended-monitor",
   "metadata": {},
   "outputs": [],
   "source": [
    "a = np.array([1, 2, 3, 4, 5])\n",
    "b = np.array([2, 2, 2, 2, 2])"
   ]
  },
  {
   "cell_type": "code",
   "execution_count": 5,
   "id": "civil-airfare",
   "metadata": {},
   "outputs": [
    {
     "data": {
      "text/plain": [
       "array([3, 4, 5, 6, 7])"
      ]
     },
     "execution_count": 5,
     "metadata": {},
     "output_type": "execute_result"
    }
   ],
   "source": [
    "a + b"
   ]
  },
  {
   "cell_type": "code",
   "execution_count": 6,
   "id": "rocky-parker",
   "metadata": {},
   "outputs": [
    {
     "data": {
      "text/plain": [
       "array([3, 4, 5, 6, 7])"
      ]
     },
     "execution_count": 6,
     "metadata": {},
     "output_type": "execute_result"
    }
   ],
   "source": [
    "#呼叫函式進行加法\n",
    "np.add(a, b)"
   ]
  },
  {
   "cell_type": "code",
   "execution_count": 7,
   "id": "stock-security",
   "metadata": {},
   "outputs": [
    {
     "data": {
      "text/plain": [
       "array([0, 1, 2, 3, 4, 5, 6, 7, 8, 9])"
      ]
     },
     "execution_count": 7,
     "metadata": {},
     "output_type": "execute_result"
    }
   ],
   "source": [
    "c = np.arange(10)\n",
    "c"
   ]
  },
  {
   "cell_type": "code",
   "execution_count": 8,
   "id": "fundamental-magnitude",
   "metadata": {},
   "outputs": [],
   "source": [
    "d = 3"
   ]
  },
  {
   "cell_type": "markdown",
   "id": "approximate-visiting",
   "metadata": {},
   "source": [
    "廣播 (broadcastiing) 規則:\n",
    "a. 兩個陣列形狀完全相同\n",
    "b. 比較兩個陣列的維度，如果維度的形狀相同的話，可以進行廣播\n",
    "c. 比較兩個陣列的維度，其中一個維度為1的話，可以進行廣播"
   ]
  },
  {
   "cell_type": "code",
   "execution_count": 9,
   "id": "regional-passenger",
   "metadata": {},
   "outputs": [
    {
     "data": {
      "text/plain": [
       "array([ 0,  3,  6,  9, 12, 15, 18, 21, 24, 27])"
      ]
     },
     "execution_count": 9,
     "metadata": {},
     "output_type": "execute_result"
    }
   ],
   "source": [
    "#若是兩個陣列形狀不相同的話，遵循廣播規則，下面的例子可以正常運算\n",
    "c * d #其中一個維度為1的話，可以進行廣播"
   ]
  },
  {
   "cell_type": "code",
   "execution_count": 10,
   "id": "therapeutic-dress",
   "metadata": {},
   "outputs": [
    {
     "data": {
      "text/plain": [
       "array([[6, 5, 3, 5, 8, 7, 1, 7, 6, 7],\n",
       "       [1, 7, 6, 9, 6, 7, 5, 7, 6, 9]])"
      ]
     },
     "execution_count": 10,
     "metadata": {},
     "output_type": "execute_result"
    }
   ],
   "source": [
    "e = np.random.randint(1, 10, 20).reshape(2, 10) #>=1 and <10, 挑出20組; 2*10陣列\n",
    "e"
   ]
  },
  {
   "cell_type": "code",
   "execution_count": 11,
   "id": "tamil-albert",
   "metadata": {},
   "outputs": [
    {
     "data": {
      "text/plain": [
       "array([[ 6,  6,  5,  8, 12, 12,  7, 14, 14, 16],\n",
       "       [ 1,  8,  8, 12, 10, 12, 11, 14, 14, 18]])"
      ]
     },
     "execution_count": 11,
     "metadata": {},
     "output_type": "execute_result"
    }
   ],
   "source": [
    "##其中一個維度為1的話，可以進行廣播\n",
    "c + e"
   ]
  },
  {
   "cell_type": "markdown",
   "id": "aware-expansion",
   "metadata": {},
   "source": [
    "3. sum()\n",
    "sum() 函式可以根據依指定的軸計算陣列元素值加總"
   ]
  },
  {
   "cell_type": "code",
   "execution_count": 12,
   "id": "enabling-lawyer",
   "metadata": {},
   "outputs": [
    {
     "data": {
      "text/plain": [
       "array([[0, 1, 2, 3, 4],\n",
       "       [5, 6, 7, 8, 9]])"
      ]
     },
     "execution_count": 12,
     "metadata": {},
     "output_type": "execute_result"
    }
   ],
   "source": [
    "a = np.arange(10).reshape(2, 5)\n",
    "a"
   ]
  },
  {
   "cell_type": "code",
   "execution_count": 13,
   "id": "dynamic-worst",
   "metadata": {},
   "outputs": [
    {
     "data": {
      "text/plain": [
       "45"
      ]
     },
     "execution_count": 13,
     "metadata": {},
     "output_type": "execute_result"
    }
   ],
   "source": [
    "#若沒有指定軸的話，則是回傳所有元素加總值\n",
    "a.sum()"
   ]
  },
  {
   "cell_type": "code",
   "execution_count": 14,
   "id": "settled-academy",
   "metadata": {},
   "outputs": [
    {
     "data": {
      "text/plain": [
       "array([ 5,  7,  9, 11, 13])"
      ]
     },
     "execution_count": 14,
     "metadata": {},
     "output_type": "execute_result"
    }
   ],
   "source": [
    "#numpy.sum()\n",
    "np.sum(a, axis=0)"
   ]
  },
  {
   "cell_type": "code",
   "execution_count": 15,
   "id": "generic-purse",
   "metadata": {},
   "outputs": [
    {
     "data": {
      "text/plain": [
       "array([10, 35])"
      ]
     },
     "execution_count": 15,
     "metadata": {},
     "output_type": "execute_result"
    }
   ],
   "source": [
    "#numpy.sum()\n",
    "np.sum(a, axis=1)"
   ]
  },
  {
   "cell_type": "markdown",
   "id": "adult-antigua",
   "metadata": {},
   "source": [
    "3. 次方\n",
    "方的運算，跟四則運算一樣，也要遵循上述的規則，才能成功進行運算\n",
    "np.power(a, b)\n",
    "a**b"
   ]
  },
  {
   "cell_type": "code",
   "execution_count": 16,
   "id": "previous-ebony",
   "metadata": {},
   "outputs": [
    {
     "data": {
      "text/plain": [
       "8"
      ]
     },
     "execution_count": 16,
     "metadata": {},
     "output_type": "execute_result"
    }
   ],
   "source": [
    "#np.power(a, b)\n",
    "#與2**3 相同\n",
    "np.power(2, 3)"
   ]
  },
  {
   "cell_type": "code",
   "execution_count": 17,
   "id": "declared-rochester",
   "metadata": {},
   "outputs": [
    {
     "data": {
      "text/plain": [
       "array([[0, 1, 2, 3, 4],\n",
       "       [5, 6, 7, 8, 9]])"
      ]
     },
     "execution_count": 17,
     "metadata": {},
     "output_type": "execute_result"
    }
   ],
   "source": [
    "a"
   ]
  },
  {
   "cell_type": "code",
   "execution_count": 18,
   "id": "random-yacht",
   "metadata": {},
   "outputs": [
    {
     "data": {
      "text/plain": [
       "array([2, 2, 2, 2, 2])"
      ]
     },
     "execution_count": 18,
     "metadata": {},
     "output_type": "execute_result"
    }
   ],
   "source": [
    "b"
   ]
  },
  {
   "cell_type": "code",
   "execution_count": 19,
   "id": "turned-basis",
   "metadata": {},
   "outputs": [
    {
     "data": {
      "text/plain": [
       "array([[ 0,  1,  4,  9, 16],\n",
       "       [25, 36, 49, 64, 81]], dtype=int32)"
      ]
     },
     "execution_count": 19,
     "metadata": {},
     "output_type": "execute_result"
    }
   ],
   "source": [
    "#a 和 b形狀相同\n",
    "np.power(a, b)"
   ]
  },
  {
   "cell_type": "code",
   "execution_count": 20,
   "id": "cardiovascular-craps",
   "metadata": {},
   "outputs": [
    {
     "data": {
      "text/plain": [
       "array([0, 1, 2, 3, 4, 5, 6, 7, 8, 9])"
      ]
     },
     "execution_count": 20,
     "metadata": {},
     "output_type": "execute_result"
    }
   ],
   "source": [
    "c"
   ]
  },
  {
   "cell_type": "code",
   "execution_count": 21,
   "id": "understanding-orientation",
   "metadata": {},
   "outputs": [
    {
     "data": {
      "text/plain": [
       "array([[6, 5, 3, 5, 8, 7, 1, 7, 6, 7],\n",
       "       [1, 7, 6, 9, 6, 7, 5, 7, 6, 9]])"
      ]
     },
     "execution_count": 21,
     "metadata": {},
     "output_type": "execute_result"
    }
   ],
   "source": [
    "e"
   ]
  },
  {
   "cell_type": "code",
   "execution_count": 23,
   "id": "worst-appointment",
   "metadata": {},
   "outputs": [
    {
     "data": {
      "text/plain": [
       "array([[        1,         5,         9,       125,      4096,     16807,\n",
       "                1,    823543,   1679616,  40353607],\n",
       "       [        1,         7,        36,       729,      1296,     16807,\n",
       "            15625,    823543,   1679616, 387420489]], dtype=int32)"
      ]
     },
     "execution_count": 23,
     "metadata": {},
     "output_type": "execute_result"
    }
   ],
   "source": [
    "# e 和 c 的次方運算符合廣播規則\n",
    "e ** c"
   ]
  },
  {
   "cell_type": "markdown",
   "id": "widespread-navigation",
   "metadata": {},
   "source": [
    "4. 平方根\n",
    "np.sqrt()"
   ]
  },
  {
   "cell_type": "code",
   "execution_count": 24,
   "id": "combined-defense",
   "metadata": {},
   "outputs": [
    {
     "data": {
      "text/plain": [
       "2.0"
      ]
     },
     "execution_count": 24,
     "metadata": {},
     "output_type": "execute_result"
    }
   ],
   "source": [
    "#np.sqrt() 平方根\n",
    "np.sqrt(4)"
   ]
  },
  {
   "cell_type": "code",
   "execution_count": 25,
   "id": "public-school",
   "metadata": {},
   "outputs": [
    {
     "data": {
      "text/plain": [
       "array([[0.        , 1.        , 1.41421356, 1.73205081, 2.        ],\n",
       "       [2.23606798, 2.44948974, 2.64575131, 2.82842712, 3.        ]])"
      ]
     },
     "execution_count": 25,
     "metadata": {},
     "output_type": "execute_result"
    }
   ],
   "source": [
    "#np.sqrt() 平方根\n",
    "np.sqrt(a)"
   ]
  },
  {
   "cell_type": "markdown",
   "id": "impossible-artist",
   "metadata": {},
   "source": [
    "6. 對數函式\n",
    "np.log(x) #底數為e\n",
    "np.log2(x) #底數為2\n",
    "np.log10(x) #底數為10\n",
    "np.log1p(x) #底數為e，計算log(1+x)"
   ]
  },
  {
   "cell_type": "code",
   "execution_count": 34,
   "id": "sharing-choir",
   "metadata": {},
   "outputs": [
    {
     "data": {
      "text/plain": [
       "array([    1,    10,   100,  1000, 10000])"
      ]
     },
     "execution_count": 34,
     "metadata": {},
     "output_type": "execute_result"
    }
   ],
   "source": [
    "# 以 np.log10() 為例\n",
    "f = np.array([1, 10, 100, 1000, 10000])\n",
    "f"
   ]
  },
  {
   "cell_type": "code",
   "execution_count": 35,
   "id": "rising-conference",
   "metadata": {},
   "outputs": [
    {
     "data": {
      "text/plain": [
       "array([0., 1., 2., 3., 4.])"
      ]
     },
     "execution_count": 35,
     "metadata": {},
     "output_type": "execute_result"
    }
   ],
   "source": [
    "# 以 np.log10() 為例\n",
    "np.log10(f)"
   ]
  },
  {
   "cell_type": "markdown",
   "id": "through-order",
   "metadata": {},
   "source": [
    "7. 取近似值\n",
    "round(), around() \n",
    "在 Rounding 的方法部分，與 Python 同樣採用 IEEE 754 規範，\n",
    "四捨、五取最近偶數、六入，而非我們一般講的四捨五入。"
   ]
  },
  {
   "cell_type": "markdown",
   "id": "seasonal-school",
   "metadata": {},
   "source": [
    "round(), around() #四捨、五取最近偶數、六入\n",
    "rint() #Round至最近的整數\n",
    "trunc() #無條件捨去小數點\n",
    "floor() #向下取整數\n",
    "ceil() #向上取整數\n",
    "fix() #向0的方向取整數"
   ]
  },
  {
   "cell_type": "code",
   "execution_count": 37,
   "id": "creative-warrior",
   "metadata": {},
   "outputs": [
    {
     "data": {
      "text/plain": [
       "array([ 1.65,  1.55, -3.57,  2.  ])"
      ]
     },
     "execution_count": 37,
     "metadata": {},
     "output_type": "execute_result"
    }
   ],
   "source": [
    "a = np.array([1.65, 1.55, -3.57, 2.0])\n",
    "a"
   ]
  },
  {
   "cell_type": "code",
   "execution_count": 38,
   "id": "broadband-touch",
   "metadata": {},
   "outputs": [
    {
     "data": {
      "text/plain": [
       "array([ 1.6,  1.6, -3.6,  2. ])"
      ]
     },
     "execution_count": 38,
     "metadata": {},
     "output_type": "execute_result"
    }
   ],
   "source": [
    "#下面例子是進行小數點第二位的 rounding，\n",
    "#從 a[0] 和 a[1] 的 rounding 結果可以看出 IEEE 754 的\"四捨五取最近偶數六入\"。\n",
    "np.round(a, decimals=1)"
   ]
  },
  {
   "cell_type": "code",
   "execution_count": 39,
   "id": "empirical-domain",
   "metadata": {},
   "outputs": [
    {
     "name": "stdout",
     "output_type": "stream",
     "text": [
      "2\n"
     ]
    }
   ],
   "source": [
    "#下面例子是進行小數點第二位的 rounding，\n",
    "#從 a[0] 和 a[1] 的 rounding 結果可以看出 IEEE 754 的\"四捨五取最近偶數六入\"。\n",
    "# 這會印出 2\n",
    "print(round(1.5)) #1.5進位=2; 1.5捨去=1; 取最近偶數"
   ]
  },
  {
   "cell_type": "code",
   "execution_count": null,
   "id": "lined-palestine",
   "metadata": {},
   "outputs": [],
   "source": [
    "#下面例子是進行小數點第二位的 rounding，\n",
    "#從 a[0] 和 a[1] 的 rounding 結果可以看出 IEEE 754 的\"四捨五取最近偶數六入\"。\n",
    "# 這也會印出 2\n",
    "print(round(2.5)) #2.5進位=3; 2.5捨去=2; 取最近偶數"
   ]
  },
  {
   "cell_type": "code",
   "execution_count": 40,
   "id": "optical-applicant",
   "metadata": {},
   "outputs": [
    {
     "data": {
      "text/plain": [
       "array([ 2.,  2., -4.,  2.])"
      ]
     },
     "execution_count": 40,
     "metadata": {},
     "output_type": "execute_result"
    }
   ],
   "source": [
    "# Round至最近的整數\n",
    "np.rint(a)"
   ]
  },
  {
   "cell_type": "code",
   "execution_count": 41,
   "id": "impressive-coordination",
   "metadata": {},
   "outputs": [
    {
     "data": {
      "text/plain": [
       "array([ 1.,  1., -3.,  2.])"
      ]
     },
     "execution_count": 41,
     "metadata": {},
     "output_type": "execute_result"
    }
   ],
   "source": [
    "# 無條件捨去小數點\n",
    "np.trunc(a)"
   ]
  },
  {
   "cell_type": "code",
   "execution_count": 42,
   "id": "burning-harvard",
   "metadata": {},
   "outputs": [
    {
     "data": {
      "text/plain": [
       "array([ 1.,  1., -4.,  2.])"
      ]
     },
     "execution_count": 42,
     "metadata": {},
     "output_type": "execute_result"
    }
   ],
   "source": [
    "# 向下取整數\n",
    "np.floor(a)"
   ]
  },
  {
   "cell_type": "code",
   "execution_count": 43,
   "id": "lesser-landscape",
   "metadata": {},
   "outputs": [
    {
     "data": {
      "text/plain": [
       "array([ 2.,  2., -3.,  2.])"
      ]
     },
     "execution_count": 43,
     "metadata": {},
     "output_type": "execute_result"
    }
   ],
   "source": [
    "# 向上取整數\n",
    "np.ceil(a)"
   ]
  },
  {
   "cell_type": "code",
   "execution_count": 44,
   "id": "solar-draft",
   "metadata": {},
   "outputs": [
    {
     "data": {
      "text/plain": [
       "array([ 1.,  1., -3.,  2.])"
      ]
     },
     "execution_count": 44,
     "metadata": {},
     "output_type": "execute_result"
    }
   ],
   "source": [
    "# 向0的方向取整數\n",
    "np.fix(a)"
   ]
  },
  {
   "cell_type": "markdown",
   "id": "junior-probability",
   "metadata": {},
   "source": [
    "8. 取絕對值\n",
    "np.abs() \n",
    "np.absolute() \n",
    "np.fabs()"
   ]
  },
  {
   "cell_type": "code",
   "execution_count": 45,
   "id": "favorite-reform",
   "metadata": {},
   "outputs": [
    {
     "data": {
      "text/plain": [
       "array([ 1.65,  1.55, -3.57,  2.  ])"
      ]
     },
     "execution_count": 45,
     "metadata": {},
     "output_type": "execute_result"
    }
   ],
   "source": [
    "a"
   ]
  },
  {
   "cell_type": "code",
   "execution_count": 46,
   "id": "collaborative-graduate",
   "metadata": {},
   "outputs": [
    {
     "data": {
      "text/plain": [
       "array([1.65, 1.55, 3.57, 2.  ])"
      ]
     },
     "execution_count": 46,
     "metadata": {},
     "output_type": "execute_result"
    }
   ],
   "source": [
    "#取絕對值\n",
    "#np.abs() \n",
    "np.abs(a)"
   ]
  }
 ],
 "metadata": {
  "kernelspec": {
   "display_name": "Python 3",
   "language": "python",
   "name": "python3"
  },
  "language_info": {
   "codemirror_mode": {
    "name": "ipython",
    "version": 3
   },
   "file_extension": ".py",
   "mimetype": "text/x-python",
   "name": "python",
   "nbconvert_exporter": "python",
   "pygments_lexer": "ipython3",
   "version": "3.8.6"
  }
 },
 "nbformat": 4,
 "nbformat_minor": 5
}
