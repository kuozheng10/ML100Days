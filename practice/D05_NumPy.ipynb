{
 "cells": [
  {
   "cell_type": "markdown",
   "id": "significant-width",
   "metadata": {},
   "source": [
    "順序統計量 (Order Statistics)\n",
    "平均數與變異數\n",
    "相關性\n",
    "直方圖 (Histogram)"
   ]
  },
  {
   "cell_type": "markdown",
   "id": "formed-sight",
   "metadata": {},
   "source": [
    "統計函式也須注意針對計算的軸 (axis) 與維度 (dimension)\n",
    "直方圖 (Histogram) 需要配合套件 matplotlib.pyplot 使用"
   ]
  },
  {
   "cell_type": "code",
   "execution_count": 1,
   "id": "popular-ethnic",
   "metadata": {},
   "outputs": [],
   "source": [
    "import numpy as np"
   ]
  },
  {
   "cell_type": "markdown",
   "id": "chubby-nashville",
   "metadata": {},
   "source": [
    "1. 順序統計量 (Order Statistics)\n",
    "1.1 最大值和最小值"
   ]
  },
  {
   "cell_type": "code",
   "execution_count": 3,
   "id": "serious-fantasy",
   "metadata": {},
   "outputs": [],
   "source": [
    "np.random.seed(1)\n",
    "a = np.random.randint(1, 10, 6).reshape(2, 3) #>=1 and <10; 取六組元素; 2*3陣列\n",
    "b = np.random.randint(1, 5, 3) #>=1 and <5; 取三組元素"
   ]
  },
  {
   "cell_type": "code",
   "execution_count": 4,
   "id": "experienced-vision",
   "metadata": {},
   "outputs": [
    {
     "data": {
      "text/plain": [
       "array([[6, 9, 6],\n",
       "       [1, 1, 2]])"
      ]
     },
     "execution_count": 4,
     "metadata": {},
     "output_type": "execute_result"
    }
   ],
   "source": [
    "a"
   ]
  },
  {
   "cell_type": "code",
   "execution_count": 5,
   "id": "burning-weapon",
   "metadata": {},
   "outputs": [
    {
     "data": {
      "text/plain": [
       "array([1, 4, 2])"
      ]
     },
     "execution_count": 5,
     "metadata": {},
     "output_type": "execute_result"
    }
   ],
   "source": [
    "b"
   ]
  },
  {
   "cell_type": "markdown",
   "id": "attempted-calcium",
   "metadata": {},
   "source": [
    "1.1.1 numpy.maximum(), numpy.minimum()\n",
    "以 element-wise 比較 2 個陣列並回傳各元素的最大值或最小值。\n",
    "===>如果比較的元素中的 nan 的話，則會回傳 nan。\n",
    "maximum() 與 minimum() 在進行比較時，若有需要會利用到廣播 (bradcasting)。"
   ]
  },
  {
   "cell_type": "code",
   "execution_count": 6,
   "id": "lovely-wedding",
   "metadata": {},
   "outputs": [
    {
     "data": {
      "text/plain": [
       "array([[6, 9, 6],\n",
       "       [1, 4, 2]])"
      ]
     },
     "execution_count": 6,
     "metadata": {},
     "output_type": "execute_result"
    }
   ],
   "source": [
    "#numpy.maximum()\n",
    "np.maximum(a, b)"
   ]
  },
  {
   "cell_type": "code",
   "execution_count": 7,
   "id": "global-bhutan",
   "metadata": {},
   "outputs": [
    {
     "data": {
      "text/plain": [
       "array([[1, 4, 2],\n",
       "       [1, 1, 2]])"
      ]
     },
     "execution_count": 7,
     "metadata": {},
     "output_type": "execute_result"
    }
   ],
   "source": [
    "#numpy.minimum()\n",
    "np.minimum(a, b)"
   ]
  },
  {
   "cell_type": "code",
   "execution_count": 8,
   "id": "ambient-petroleum",
   "metadata": {},
   "outputs": [
    {
     "data": {
      "text/plain": [
       "array([[nan,  9., nan],\n",
       "       [nan,  1., nan]])"
      ]
     },
     "execution_count": 8,
     "metadata": {},
     "output_type": "execute_result"
    }
   ],
   "source": [
    "#如果比較的元素中的 nan 的話，則會回傳 nan\n",
    "np.maximum(a, [np.nan, 0, np.nan])"
   ]
  },
  {
   "cell_type": "markdown",
   "id": "quiet-wheat",
   "metadata": {},
   "source": [
    "1.1.2 numpy.fmax(), numpy.fmin()\n",
    "以 element-wise 比較 2 個陣列並回傳各元素的最大值或最小值\n",
    "===>比較的元素中只有一個是 nan 的話，回傳非 nan 的值\n",
    "如果兩個元素都是 nan 則回傳 nan"
   ]
  },
  {
   "cell_type": "code",
   "execution_count": 9,
   "id": "outdoor-lingerie",
   "metadata": {},
   "outputs": [
    {
     "data": {
      "text/plain": [
       "array([[6, 9, 6],\n",
       "       [1, 4, 2]])"
      ]
     },
     "execution_count": 9,
     "metadata": {},
     "output_type": "execute_result"
    }
   ],
   "source": [
    "#numpy.fmax()\n",
    "np.fmax(a, b)"
   ]
  },
  {
   "cell_type": "code",
   "execution_count": 10,
   "id": "authorized-studio",
   "metadata": {},
   "outputs": [
    {
     "data": {
      "text/plain": [
       "array([[1, 4, 2],\n",
       "       [1, 1, 2]])"
      ]
     },
     "execution_count": 10,
     "metadata": {},
     "output_type": "execute_result"
    }
   ],
   "source": [
    "#numpy.fmin()\n",
    "np.fmin(a, b)"
   ]
  },
  {
   "cell_type": "code",
   "execution_count": 11,
   "id": "amino-corps",
   "metadata": {},
   "outputs": [
    {
     "data": {
      "text/plain": [
       "array([nan,  3., nan])"
      ]
     },
     "execution_count": 11,
     "metadata": {},
     "output_type": "execute_result"
    }
   ],
   "source": [
    "#numpy.fmin()\n",
    "#比較的元素中只有一個是 nan 的話，回傳非 nan 的值\n",
    "np.fmin([np.nan, 3, np.nan], [np.nan, np.nan, np.nan])"
   ]
  },
  {
   "cell_type": "markdown",
   "id": "fresh-filling",
   "metadata": {},
   "source": [
    "1.1.3 numpy.nanmax(), numpy.nanmin()\n",
    "====>回傳陣列中有非 nan 元素值的最大值或最小值\n",
    "可以指定要比較的軸\n",
    "回傳值是否要保留維度\n",
    "#numpy.nanmax(a, axis=None, keepdims=<no value>)\n",
    "#numpy.nanmin(a, axis=None, keepdims=<no value>)"
   ]
  },
  {
   "cell_type": "code",
   "execution_count": 12,
   "id": "choice-tampa",
   "metadata": {},
   "outputs": [
    {
     "data": {
      "text/plain": [
       "3.0"
      ]
     },
     "execution_count": 12,
     "metadata": {},
     "output_type": "execute_result"
    }
   ],
   "source": [
    "#numpy.nanmax(a, axis=None, keepdims=<no value>)\n",
    "#回傳陣列中有非 nan 元素值的最大值或最小值\n",
    "np.nanmax([1, 2, np.nan, 3])"
   ]
  },
  {
   "cell_type": "code",
   "execution_count": null,
   "id": "velvet-walnut",
   "metadata": {},
   "outputs": [],
   "source": [
    "1.2 百分位數\n",
    "#percentile():計算百分位數 \n",
    "#nanpercentile() :計算百分位數，忽略 nan\n",
    "#numpy.percentile(a, q, axis=None, keepdims=<no value>) #可以指定要比較的軸;回傳值是否要保留維度\n",
    "#numpy.nanpercentile(a, q, axis=None, keepdims=<no value>) #可以指定要比較的軸;回傳值是否要保留維度"
   ]
  },
  {
   "cell_type": "code",
   "execution_count": 13,
   "id": "grand-lightning",
   "metadata": {},
   "outputs": [
    {
     "data": {
      "text/plain": [
       "array([ 1.,  2.,  3.,  4.,  5.,  6.,  7.,  8.,  9., 10., 11., 12., 13.,\n",
       "       14., 15., 16., 17., 18., 19.], dtype=float32)"
      ]
     },
     "execution_count": 13,
     "metadata": {},
     "output_type": "execute_result"
    }
   ],
   "source": [
    "p = np.arange(1, 20).astype('float32') #>=1 and <20\n",
    "p"
   ]
  },
  {
   "cell_type": "code",
   "execution_count": 19,
   "id": "amber-graphic",
   "metadata": {},
   "outputs": [
    {
     "data": {
      "text/plain": [
       "array([2.8, 4.6, 6.4])"
      ]
     },
     "execution_count": 19,
     "metadata": {},
     "output_type": "execute_result"
    }
   ],
   "source": [
    "np.percentile(p, [10, 20, 30])"
   ]
  },
  {
   "cell_type": "code",
   "execution_count": 22,
   "id": "proud-selection",
   "metadata": {},
   "outputs": [
    {
     "data": {
      "text/plain": [
       "6.3999999999999995"
      ]
     },
     "execution_count": 22,
     "metadata": {},
     "output_type": "execute_result"
    }
   ],
   "source": [
    "np.percentile(p, 30)"
   ]
  },
  {
   "cell_type": "markdown",
   "id": "duplicate-textbook",
   "metadata": {},
   "source": [
    "1.3 分位數：quantile(), nanquantile()\n",
    "#quantile():計算分位數\n",
    "#nanquantile():計算分位數，忽略 nan\n",
    "#可以指定要比較的軸\n",
    "#回傳值是否要保留維度\n",
    "#numpy.quantile(a, q, axis=None, keepdims=<no value>)\n",
    "#numpy.nanquantile(a, q, axis=None, keepdims=<no value>)"
   ]
  },
  {
   "cell_type": "code",
   "execution_count": 23,
   "id": "general-master",
   "metadata": {},
   "outputs": [
    {
     "data": {
      "text/plain": [
       "array([23,  2,  1, 18,  9, 25, 14, 48, 43,  9, 31,  8,  4,  7, 22,  4,  5,\n",
       "       25, 44, 13])"
      ]
     },
     "execution_count": 23,
     "metadata": {},
     "output_type": "execute_result"
    }
   ],
   "source": [
    "q = np.array([23,  2,  1, 18,  9, 25, 14, 48, 43,  9, 31,  8,  4,  7, 22,  4,  5, 25, 44, 13])\n",
    "q"
   ]
  },
  {
   "cell_type": "code",
   "execution_count": 26,
   "id": "latin-glass",
   "metadata": {},
   "outputs": [
    {
     "data": {
      "text/plain": [
       "13.5"
      ]
     },
     "execution_count": 26,
     "metadata": {},
     "output_type": "execute_result"
    }
   ],
   "source": [
    "np.quantile(q, 0.5)"
   ]
  },
  {
   "cell_type": "code",
   "execution_count": 27,
   "id": "further-ballet",
   "metadata": {},
   "outputs": [
    {
     "data": {
      "text/plain": [
       "array([23.,  2.,  1., nan,  9., 25., nan, 48., 43.,  9., 31., nan,  4.,\n",
       "        7., nan,  4.,  5., 25., 44., 13.])"
      ]
     },
     "execution_count": 27,
     "metadata": {},
     "output_type": "execute_result"
    }
   ],
   "source": [
    "q = np.array([23,  2,  1, np.nan,  9, 25, np.nan, 48, 43,  9, 31,  np.nan,  4,  7, np.nan,  4,  5, 25, 44, 13])\n",
    "q"
   ]
  },
  {
   "cell_type": "code",
   "execution_count": 30,
   "id": "ahead-seller",
   "metadata": {},
   "outputs": [
    {
     "data": {
      "text/plain": [
       "array([[23.,  2.,  1., nan],\n",
       "       [ 9., 25., nan, 48.],\n",
       "       [43.,  9., 31., nan],\n",
       "       [ 4.,  7., nan,  4.],\n",
       "       [ 5., 25., 44., 13.]])"
      ]
     },
     "execution_count": 30,
     "metadata": {},
     "output_type": "execute_result"
    }
   ],
   "source": [
    "q = q.reshape(5, 4) #5*4陣列\n",
    "q"
   ]
  },
  {
   "cell_type": "code",
   "execution_count": 33,
   "id": "correct-marble",
   "metadata": {},
   "outputs": [
    {
     "data": {
      "text/plain": [
       "array([[ 5. ,  7. , 16. ,  8.5]])"
      ]
     },
     "execution_count": 33,
     "metadata": {},
     "output_type": "execute_result"
    }
   ],
   "source": [
    "#沿 axis 0 計算分位數，並且保留二維的維度\n",
    "np.nanquantile(q, 0.25, axis=0, keepdims=True)"
   ]
  },
  {
   "cell_type": "code",
   "execution_count": 35,
   "id": "weekly-broadcast",
   "metadata": {},
   "outputs": [
    {
     "data": {
      "text/plain": [
       "array([[43., 25., 44., 48.]])"
      ]
     },
     "execution_count": 35,
     "metadata": {},
     "output_type": "execute_result"
    }
   ],
   "source": [
    "#沿 axis 0 計算分位數，並且保留二維的維度\n",
    "np.nanquantile(q, 1, axis=0, keepdims=True)"
   ]
  },
  {
   "cell_type": "markdown",
   "id": "nuclear-tampa",
   "metadata": {},
   "source": [
    "2. 平均數與變異數\n",
    "2.1 平均值：mean(), nanmean()\n",
    "#numpy.mean(a, axis=None, dtype=None, keepdims=<no value>) \n",
    "#numpy.nanmean(a, axis=None, dtype=None, keepdims=<no value>)\n",
    "#指定要計算平均數的軸\n",
    "#回傳值是否要保留維度\n",
    "#dtype 引數是計算使用的型別"
   ]
  },
  {
   "cell_type": "code",
   "execution_count": 36,
   "id": "adjusted-prophet",
   "metadata": {},
   "outputs": [
    {
     "data": {
      "text/plain": [
       "array([23.,  2.,  1., nan,  9., 25., nan, 48., 43.,  9., 31., nan])"
      ]
     },
     "execution_count": 36,
     "metadata": {},
     "output_type": "execute_result"
    }
   ],
   "source": [
    "a = np.array([23,  2,  1, np.nan,  9, 25, np.nan, \n",
    "              48, 43,  9, 31,  np.nan])\n",
    "a"
   ]
  },
  {
   "cell_type": "code",
   "execution_count": 39,
   "id": "armed-harvey",
   "metadata": {},
   "outputs": [
    {
     "data": {
      "text/plain": [
       "array([[23.,  2.,  1., nan],\n",
       "       [ 9., 25., nan, 48.],\n",
       "       [43.,  9., 31., nan]])"
      ]
     },
     "execution_count": 39,
     "metadata": {},
     "output_type": "execute_result"
    }
   ],
   "source": [
    "a = a.reshape(3, 4) #3*4陣列\n",
    "a"
   ]
  },
  {
   "cell_type": "code",
   "execution_count": 40,
   "id": "applied-thong",
   "metadata": {},
   "outputs": [
    {
     "data": {
      "text/plain": [
       "nan"
      ]
     },
     "execution_count": 40,
     "metadata": {},
     "output_type": "execute_result"
    }
   ],
   "source": [
    "np.mean(a)"
   ]
  },
  {
   "cell_type": "code",
   "execution_count": 42,
   "id": "grave-disposal",
   "metadata": {},
   "outputs": [
    {
     "name": "stdout",
     "output_type": "stream",
     "text": [
      "陣列中有 nan，忽略 nan 後的平均值為 : 21.22222222222222\n"
     ]
    }
   ],
   "source": [
    "if not np.isnan(np.sum(a)): #陣列中無 nan\n",
    "    print(\"陣列中無 nan，忽略 nan 後的平均值為 :\", np.mean(a))\n",
    "else:\n",
    "    print(\"陣列中有 nan，忽略 nan 後的平均值為 :\", np.nanmean(a))"
   ]
  },
  {
   "cell_type": "markdown",
   "id": "fantastic-bridal",
   "metadata": {},
   "source": [
    "2.2 平均值\n",
    "#average()\n",
    "#numpy.average(a, axis=None, weights=None)\n",
    "#計算平均值的話，可以輸入權重值做為引數"
   ]
  },
  {
   "cell_type": "code",
   "execution_count": 43,
   "id": "operating-salmon",
   "metadata": {},
   "outputs": [
    {
     "data": {
      "text/plain": [
       "array([[0, 1],\n",
       "       [2, 3],\n",
       "       [4, 5]])"
      ]
     },
     "execution_count": 43,
     "metadata": {},
     "output_type": "execute_result"
    }
   ],
   "source": [
    "a = np.arange(6).reshape(3, 2) #3*2陣列\n",
    "a "
   ]
  },
  {
   "cell_type": "code",
   "execution_count": 44,
   "id": "technical-methodology",
   "metadata": {},
   "outputs": [
    {
     "data": {
      "text/plain": [
       "array([0.75, 2.75, 4.75])"
      ]
     },
     "execution_count": 44,
     "metadata": {},
     "output_type": "execute_result"
    }
   ],
   "source": [
    "#權重平均值的計算公式為\n",
    "#avg = sum(a * weights) / sum(weights)\n",
    "#numpy.average(a, axis=None, weights=None)\n",
    "np.average(a, axis=1, weights=[0.25, 0.75]) #權重的總和不能為 0，否則會產生錯誤"
   ]
  },
  {
   "cell_type": "code",
   "execution_count": 48,
   "id": "tutorial-journey",
   "metadata": {},
   "outputs": [
    {
     "data": {
      "text/plain": [
       "array([0.25, 2.25, 4.25])"
      ]
     },
     "execution_count": 48,
     "metadata": {},
     "output_type": "execute_result"
    }
   ],
   "source": [
    "np.average(a, axis=1, weights=[3, 1])"
   ]
  },
  {
   "cell_type": "markdown",
   "id": "first-witness",
   "metadata": {},
   "source": [
    "2.3 計算中位數\n",
    "#median()\n",
    "#nanmedian()\n",
    "#numpy.median(a, axis=None, keepdims=False)\n",
    "#numpy.nanmedian(a, axis=None, keepdims=False)"
   ]
  },
  {
   "cell_type": "code",
   "execution_count": 50,
   "id": "running-intro",
   "metadata": {},
   "outputs": [
    {
     "data": {
      "text/plain": [
       "array([[36, 15, 48, 39, 17],\n",
       "       [10,  9, 37, 40, 28],\n",
       "       [49, 31, 17,  8, 13]])"
      ]
     },
     "execution_count": 50,
     "metadata": {},
     "output_type": "execute_result"
    }
   ],
   "source": [
    "np.random.seed(5)\n",
    "m = np.random.randint(1, 50, 15).reshape(3, 5) #>=1 and <50; 挑15組; 3*5陣列\n",
    "m"
   ]
  },
  {
   "cell_type": "code",
   "execution_count": 53,
   "id": "wooden-delicious",
   "metadata": {},
   "outputs": [
    {
     "data": {
      "text/plain": [
       "array([[36.],\n",
       "       [28.],\n",
       "       [17.]])"
      ]
     },
     "execution_count": 53,
     "metadata": {},
     "output_type": "execute_result"
    }
   ],
   "source": [
    "#numpy.median(a, axis=None, keepdims=False)\n",
    "np.median(m, axis=1, keepdims=True)"
   ]
  },
  {
   "cell_type": "code",
   "execution_count": 54,
   "id": "conscious-shore",
   "metadata": {},
   "outputs": [
    {
     "data": {
      "text/plain": [
       "array([[36., 15., 37., 39., 17.]])"
      ]
     },
     "execution_count": 54,
     "metadata": {},
     "output_type": "execute_result"
    }
   ],
   "source": [
    "#numpy.median(a, axis=None, keepdims=False)\n",
    "np.median(m, axis=0, keepdims=True)"
   ]
  },
  {
   "cell_type": "markdown",
   "id": "signed-spray",
   "metadata": {},
   "source": [
    "2.4 計算標準差\n",
    "#std() \n",
    "#nanstd()\n",
    "#numpy.std(a, axis=None, dtype=None, ddof=0, keepdims=<no value>)\n",
    "#numpy.nanstd(a, axis=None, dtype=None, ddof=0, keepdims=<no value>)\n",
    "如果要計算樣本標準差的話，可將 ddof (自由度) 引數傳入 1，在計算平均方差 (mean squared deviation) 時分母就會以 N - ddof 做計算。"
   ]
  },
  {
   "cell_type": "code",
   "execution_count": 55,
   "id": "intended-investigation",
   "metadata": {},
   "outputs": [
    {
     "data": {
      "text/plain": [
       "array([[1, 2],\n",
       "       [3, 4]])"
      ]
     },
     "execution_count": 55,
     "metadata": {},
     "output_type": "execute_result"
    }
   ],
   "source": [
    "s = np.array([[1, 2], [3, 4]])\n",
    "s"
   ]
  },
  {
   "cell_type": "code",
   "execution_count": 56,
   "id": "running-bidding",
   "metadata": {},
   "outputs": [
    {
     "data": {
      "text/plain": [
       "1.118033988749895"
      ]
     },
     "execution_count": 56,
     "metadata": {},
     "output_type": "execute_result"
    }
   ],
   "source": [
    "#numpy.std(a, axis=None, dtype=None, ddof=0, keepdims=<no value>)\n",
    "np.std(s)"
   ]
  },
  {
   "cell_type": "markdown",
   "id": "solar-eligibility",
   "metadata": {},
   "source": [
    "2.5 計算變異數\n",
    "#var()\n",
    "#nanvar()\n",
    "對於精度可能造成的誤差影響，可以改變 dtype 提高精度\n",
    "#numpy.var(a, axis=None, dtype=None, ddof=0, keepdims=<no value>)\n",
    "#numpy.nanvar(a, axis=None, dtype=None, ddof=0, keepdims=<no value>"
   ]
  },
  {
   "cell_type": "code",
   "execution_count": 57,
   "id": "august-segment",
   "metadata": {},
   "outputs": [
    {
     "data": {
      "text/plain": [
       "array([[1, 2],\n",
       "       [3, 4]])"
      ]
     },
     "execution_count": 57,
     "metadata": {},
     "output_type": "execute_result"
    }
   ],
   "source": [
    "v = np.array([[1, 2], [3, 4]])\n",
    "v"
   ]
  },
  {
   "cell_type": "code",
   "execution_count": 58,
   "id": "norwegian-anniversary",
   "metadata": {},
   "outputs": [
    {
     "data": {
      "text/plain": [
       "2.9166666666666665"
      ]
     },
     "execution_count": 58,
     "metadata": {},
     "output_type": "execute_result"
    }
   ],
   "source": [
    "#numpy.var(a, axis=None, dtype=None, ddof=0, keepdims=<no value>)\n",
    "np.var(a)"
   ]
  },
  {
   "cell_type": "code",
   "execution_count": 59,
   "id": "bibliographic-liabilities",
   "metadata": {},
   "outputs": [
    {
     "data": {
      "text/plain": [
       "array([2.66666667, 2.66666667])"
      ]
     },
     "execution_count": 59,
     "metadata": {},
     "output_type": "execute_result"
    }
   ],
   "source": [
    "#numpy.var(a, axis=None, dtype=None, ddof=0, keepdims=<no value>)\n",
    "np.var(a, axis=0)"
   ]
  },
  {
   "cell_type": "code",
   "execution_count": 60,
   "id": "exempt-charger",
   "metadata": {},
   "outputs": [
    {
     "data": {
      "text/plain": [
       "array([0.25, 0.25, 0.25])"
      ]
     },
     "execution_count": 60,
     "metadata": {},
     "output_type": "execute_result"
    }
   ],
   "source": [
    "#numpy.var(a, axis=None, dtype=None, ddof=0, keepdims=<no value>)\n",
    "np.var(a, axis=1)"
   ]
  },
  {
   "cell_type": "code",
   "execution_count": null,
   "id": "atmospheric-davis",
   "metadata": {},
   "outputs": [],
   "source": [
    "3. 相關性\n",
    "3.1 相關係數\n",
    "#corrcoef()\n",
    "計算 Pearson 積差相關係數\n",
    "引數 rowvar 預設值為 True，代表將每一個 row 當做是一筆變數\n",
    "#numpy.corrcoef(x, y=None, rowvar=True)"
   ]
  },
  {
   "cell_type": "code",
   "execution_count": 63,
   "id": "southern-restoration",
   "metadata": {},
   "outputs": [
    {
     "data": {
      "text/plain": [
       "array([[1.        , 0.64936333],\n",
       "       [0.64936333, 1.        ]])"
      ]
     },
     "execution_count": 63,
     "metadata": {},
     "output_type": "execute_result"
    }
   ],
   "source": [
    "#numpy.corrcoef(x, y=None, rowvar=True)\n",
    "x = np.random.randint(1, 20, 10).reshape(2, 5) #>=1 and <20;挑選10組; 2*5陣列\n",
    "np.corrcoef(x)"
   ]
  }
 ],
 "metadata": {
  "kernelspec": {
   "display_name": "Python 3",
   "language": "python",
   "name": "python3"
  },
  "language_info": {
   "codemirror_mode": {
    "name": "ipython",
    "version": 3
   },
   "file_extension": ".py",
   "mimetype": "text/x-python",
   "name": "python",
   "nbconvert_exporter": "python",
   "pygments_lexer": "ipython3",
   "version": "3.8.6"
  }
 },
 "nbformat": 4,
 "nbformat_minor": 5
}
