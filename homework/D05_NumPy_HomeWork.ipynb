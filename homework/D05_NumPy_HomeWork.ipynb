{
 "cells": [
  {
   "cell_type": "markdown",
   "id": "coated-spring",
   "metadata": {},
   "source": [
    "作業目標\n",
    "計算有缺失值的資料，統計量實作\n",
    "作業重點\n",
    "當遇到缺失值有函式可以處理，不須額外寫程式刪除\n",
    "計算統計量時不能出現缺失值"
   ]
  },
  {
   "cell_type": "markdown",
   "id": "close-berkeley",
   "metadata": {},
   "source": [
    "題目:\n",
    "english_score = np.array([55,89,76,65,48,70])\n",
    "math_score = np.array([60,85,60,68,np.nan,60])\n",
    "chinese_score = np.array([65,90,82,72,66,77])\n",
    "上3列共六位同學的英文、數學、國文成績，第一個元素代表第一位同學，舉例第一位同學英文55分、數學60分、國文65分，今天第五位同學因某原因沒來考試，導致數學成績缺值，運用上列數據回答下列問題。\n",
    "\n",
    "請計算各科成績平均、最大值、最小值、標準差，其中數學缺一筆資料可忽略?\n",
    "第五位同學補考數學後成績為55，請計算補考後數學成績平均、最大值、最小值、標準差?\n",
    "用補考後資料找出與國文成績相關係數最高的學科?"
   ]
  },
  {
   "cell_type": "code",
   "execution_count": 1,
   "id": "assured-boating",
   "metadata": {},
   "outputs": [],
   "source": [
    "import numpy as np"
   ]
  },
  {
   "cell_type": "code",
   "execution_count": 2,
   "id": "postal-yemen",
   "metadata": {},
   "outputs": [],
   "source": [
    "english_score = np.array([55,89,76,65,48,70])\n",
    "math_score = np.array([60,85,60,68,np.nan,60])\n",
    "chinese_score = np.array([65,90,82,72,66,77])"
   ]
  },
  {
   "cell_type": "code",
   "execution_count": 10,
   "id": "conventional-mystery",
   "metadata": {},
   "outputs": [
    {
     "name": "stdout",
     "output_type": "stream",
     "text": [
      "英文成績  平均 67.16666666666667 最大值 89 最小值 48 標準差 13.433995020924426\n",
      "數學成績  平均 66.6 最大值 85.0 最小值 60.0 標準差 9.707728879609279\n",
      "國文成績  平均 75.33333333333333 最大值 90 最小值 65 標準差 8.825468196582484\n"
     ]
    }
   ],
   "source": [
    "#1. 請計算各科成績平均、最大值、最小值、標準差，其中數學缺一筆資料可忽略?\n",
    "#mean : 平均數\n",
    "mean_Eng = np.nanmean(english_score)\n",
    "mean_Math = np.nanmean(math_score)\n",
    "mean_Chi = np.nanmean(chinese_score)\n",
    "\n",
    "#max : 最大值\n",
    "max_Eng = np.nanmax(english_score)\n",
    "max_Math = np.nanmax(math_score)\n",
    "max_Chi = np.nanmax(chinese_score)\n",
    "\n",
    "#min : 最小值\n",
    "min_Eng = np.nanmin(english_score)\n",
    "min_Math = np.nanmin(math_score)\n",
    "min_Chi = np.nanmin(chinese_score)\n",
    "\n",
    "#std : 標準差\n",
    "std_Eng = np.nanstd(english_score)\n",
    "std_Math = np.nanstd(math_score)\n",
    "std_Chi = np.nanstd(chinese_score)\n",
    "\n",
    "print(\"英文成績 \", \"平均\", mean_Eng, \"最大值\", max_Eng, \"最小值\", min_Eng, \"標準差\", std_Eng)\n",
    "print(\"數學成績 \", \"平均\", mean_Math, \"最大值\", max_Math, \"最小值\", min_Math, \"標準差\", std_Math)\n",
    "print(\"國文成績 \", \"平均\", mean_Chi, \"最大值\", max_Chi, \"最小值\", min_Chi, \"標準差\", std_Chi)"
   ]
  },
  {
   "cell_type": "code",
   "execution_count": 11,
   "id": "bacterial-murder",
   "metadata": {},
   "outputs": [
    {
     "name": "stdout",
     "output_type": "stream",
     "text": [
      "數學補考後成績  平均 64.66666666666667 最大值 85.0 最小值 55.0 標準差 9.860132971832694\n"
     ]
    }
   ],
   "source": [
    "#第五位同學補考數學後成績為55，請計算補考後數學成績平均、最大值、最小值、標準差?\n",
    "math_score[4] = 55\n",
    "mean_Math = np.nanmean(math_score)\n",
    "max_Math = np.nanmax(math_score)\n",
    "min_Math = np.nanmin(math_score)\n",
    "std_Math = np.nanstd(math_score)\n",
    "print(\"數學補考後成績 \", \"平均\", mean_Math, \"最大值\", max_Math, \"最小值\", min_Math, \"標準差\", std_Math)"
   ]
  },
  {
   "cell_type": "code",
   "execution_count": 14,
   "id": "adverse-today",
   "metadata": {},
   "outputs": [
    {
     "name": "stdout",
     "output_type": "stream",
     "text": [
      "國文與數學相關係數  [[1.         0.74056803]\n",
      " [0.74056803 1.        ]]\n",
      "國文與英文相關係數  [[1.         0.97792828]\n",
      " [0.97792828 1.        ]]\n"
     ]
    }
   ],
   "source": [
    "#用補考後資料找出與國文成績相關係數最高的學科?\n",
    "#numpy.corrcoef(x, y=None, rowvar=True)\n",
    "\n",
    "#相關係數_國文vs數學\n",
    "corr_Chi_Math = np.corrcoef(chinese_score, math_score)\n",
    "corr_Chi_Eng = np.corrcoef(chinese_score, english_score)\n",
    "\n",
    "print(\"國文與數學相關係數 \", corr_Chi_Math)\n",
    "print(\"國文與英文相關係數 \", corr_Chi_Eng) #國文與英文相關係數較高"
   ]
  }
 ],
 "metadata": {
  "kernelspec": {
   "display_name": "Python 3",
   "language": "python",
   "name": "python3"
  },
  "language_info": {
   "codemirror_mode": {
    "name": "ipython",
    "version": 3
   },
   "file_extension": ".py",
   "mimetype": "text/x-python",
   "name": "python",
   "nbconvert_exporter": "python",
   "pygments_lexer": "ipython3",
   "version": "3.8.6"
  }
 },
 "nbformat": 4,
 "nbformat_minor": 5
}
