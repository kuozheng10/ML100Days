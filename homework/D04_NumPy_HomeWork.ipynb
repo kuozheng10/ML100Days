{
 "cells": [
  {
   "cell_type": "markdown",
   "id": "extended-alexandria",
   "metadata": {},
   "source": [
    "作業目標\n",
    "熟悉邏輯運算\n",
    "作業重點\n",
    "五大類邏輯函式與其對應的函式操作"
   ]
  },
  {
   "cell_type": "markdown",
   "id": "competent-destiny",
   "metadata": {},
   "source": [
    "題目:\n",
    "english_score = np.array([55,89,76,65,48,70])\n",
    "math_score = np.array([60,85,60,68,55,60])\n",
    "chinese_score = np.array([65,90,82,72,66,77])\n",
    "上3列共六位同學的英文、數學、國文成績，第一個元素代表第一位同學，舉例第一位同學英文55分、數學60分、國文65分，運用上列數據回答下列問題。\n",
    "\n",
    "有多少學生英文成績比數學成績高?\n",
    "是否全班同學最高分都是國文?"
   ]
  },
  {
   "cell_type": "code",
   "execution_count": 19,
   "id": "adequate-auction",
   "metadata": {},
   "outputs": [],
   "source": [
    "import numpy as np\n",
    "\n",
    "english_score = np.array([55,89,76,65,48,70])\n",
    "math_score = np.array([60,85,60,68,55,60])\n",
    "chinese_score = np.array([65,90,82,72,66,77])"
   ]
  },
  {
   "cell_type": "code",
   "execution_count": 20,
   "id": "subtle-content",
   "metadata": {},
   "outputs": [
    {
     "data": {
      "text/plain": [
       "array([ True, False, False,  True,  True, False])"
      ]
     },
     "execution_count": 20,
     "metadata": {},
     "output_type": "execute_result"
    }
   ],
   "source": [
    "#1.有多少學生英文成績比數學成績高?\n",
    "np.logical_not(english_score>math_score) #3個學生，英文成績比數學高"
   ]
  },
  {
   "cell_type": "code",
   "execution_count": 22,
   "id": "rough-observation",
   "metadata": {},
   "outputs": [
    {
     "name": "stdout",
     "output_type": "stream",
     "text": [
      "[False  True  True False False  True]\n"
     ]
    }
   ],
   "source": [
    "en_greater_ma = np.greater(english_score, math_score) #3個學生，英文成績比數學高\n",
    "print(en_greater_ma) "
   ]
  },
  {
   "cell_type": "code",
   "execution_count": 21,
   "id": "killing-elizabeth",
   "metadata": {},
   "outputs": [
    {
     "data": {
      "text/plain": [
       "array([False, False, False, False, False, False])"
      ]
     },
     "execution_count": 21,
     "metadata": {},
     "output_type": "execute_result"
    }
   ],
   "source": [
    "#是否全班同學最高分都是國文?\n",
    "np.logical_not((chinese_score>math_score) & (chinese_score>english_score) ) #全班同學最高分都是國文"
   ]
  },
  {
   "cell_type": "code",
   "execution_count": 15,
   "id": "lonely-johns",
   "metadata": {},
   "outputs": [
    {
     "name": "stdout",
     "output_type": "stream",
     "text": [
      "True\n"
     ]
    }
   ],
   "source": [
    "ch_greater_ma = np.greater(chinese_score,math_score)\n",
    "ch_greater_en = np.greater(chinese_score,english_score)\n",
    "\n",
    "#print(np.logical_and(ch_greater_ma,ch_greater_en))\n",
    "print(np.logical_and(ch_greater_ma,ch_greater_en).all())"
   ]
  }
 ],
 "metadata": {
  "kernelspec": {
   "display_name": "Python 3",
   "language": "python",
   "name": "python3"
  },
  "language_info": {
   "codemirror_mode": {
    "name": "ipython",
    "version": 3
   },
   "file_extension": ".py",
   "mimetype": "text/x-python",
   "name": "python",
   "nbconvert_exporter": "python",
   "pygments_lexer": "ipython3",
   "version": "3.8.6"
  }
 },
 "nbformat": 4,
 "nbformat_minor": 5
}
