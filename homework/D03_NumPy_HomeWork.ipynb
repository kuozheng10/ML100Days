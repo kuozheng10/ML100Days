{
 "cells": [
  {
   "cell_type": "markdown",
   "id": "therapeutic-mercury",
   "metadata": {},
   "source": [
    "作業目標:\n",
    "嘗試練習log的函式並應用\n",
    "作業重點:\n",
    "學員需要複習log的轉換方式\n",
    "熟悉運用指數函數以及對數函數"
   ]
  },
  {
   "cell_type": "markdown",
   "id": "executed-burke",
   "metadata": {},
   "source": [
    "題目:\n",
    "運用投影片中的分貝公式回答下列問題。\n",
    "1.正常的談話的聲壓為20000微巴斯卡，請問多少分貝?\n",
    "2.30分貝的聲壓會是50分貝的幾倍?"
   ]
  },
  {
   "cell_type": "code",
   "execution_count": 36,
   "id": "permanent-feeding",
   "metadata": {},
   "outputs": [],
   "source": [
    "import numpy as np"
   ]
  },
  {
   "cell_type": "code",
   "execution_count": 39,
   "id": "infinite-purple",
   "metadata": {},
   "outputs": [],
   "source": [
    "#1.正常的談話的聲壓為20000微巴斯卡，請問多少分貝?\n",
    "#Gdb = 20log10(V1/V2)\n",
    "#Gdb: (分貝)\n",
    "#V1: 聲壓測量值\n",
    "#V2: 聲壓標準值\n",
    "#請寫下程式\n",
    "V1 = 20000 #聲壓測量值\n",
    "V0 = 20 #聲壓標準值"
   ]
  },
  {
   "cell_type": "code",
   "execution_count": 40,
   "id": "complicated-effects",
   "metadata": {},
   "outputs": [
    {
     "data": {
      "text/plain": [
       "60.0"
      ]
     },
     "execution_count": 40,
     "metadata": {},
     "output_type": "execute_result"
    }
   ],
   "source": [
    "20 * np.log10(v1/v0)"
   ]
  },
  {
   "cell_type": "code",
   "execution_count": 41,
   "id": "nonprofit-botswana",
   "metadata": {},
   "outputs": [
    {
     "data": {
      "text/plain": [
       "0.09999999999999999"
      ]
     },
     "execution_count": 41,
     "metadata": {},
     "output_type": "execute_result"
    }
   ],
   "source": [
    "#30 分貝的聲壓會是 50 分貝的幾倍?\n",
    "#30=20log10(V1/V0) >> V1/V0=10^(30/20)=10^1.5------(1)\n",
    "#50=20log10(V2/V0)>> V2/V0=10^(50/20)=10^2.5------(2)\n",
    "V1_30 = 10**(30/20)*V0\n",
    "V1_50 = 10**(50/20)*V0\n",
    "V1_30/V1_50"
   ]
  }
 ],
 "metadata": {
  "kernelspec": {
   "display_name": "Python 3",
   "language": "python",
   "name": "python3"
  },
  "language_info": {
   "codemirror_mode": {
    "name": "ipython",
    "version": 3
   },
   "file_extension": ".py",
   "mimetype": "text/x-python",
   "name": "python",
   "nbconvert_exporter": "python",
   "pygments_lexer": "ipython3",
   "version": "3.8.6"
  }
 },
 "nbformat": 4,
 "nbformat_minor": 5
}
