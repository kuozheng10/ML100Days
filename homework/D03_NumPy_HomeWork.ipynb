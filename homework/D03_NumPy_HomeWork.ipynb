{
 "cells": [
  {
   "cell_type": "markdown",
   "id": "saved-truck",
   "metadata": {},
   "source": [
    "作業目標:\n",
    "嘗試練習log的函式並應用\n",
    "作業重點:\n",
    "學員需要複習log的轉換方式\n",
    "熟悉運用指數函數以及對數函數"
   ]
  },
  {
   "cell_type": "markdown",
   "id": "formal-encounter",
   "metadata": {},
   "source": [
    "題目:\n",
    "運用投影片中的分貝公式回答下列問題。\n",
    "1.正常的談話的聲壓為20000微巴斯卡，請問多少分貝?\n",
    "2.30分貝的聲壓會是50分貝的幾倍?"
   ]
  },
  {
   "cell_type": "code",
   "execution_count": 1,
   "id": "narrative-douglas",
   "metadata": {},
   "outputs": [],
   "source": [
    "import numpy as np"
   ]
  },
  {
   "cell_type": "code",
   "execution_count": 29,
   "id": "agricultural-fantasy",
   "metadata": {},
   "outputs": [],
   "source": [
    "#1.正常的談話的聲壓為20000微巴斯卡，請問多少分貝?\n",
    "#Gdb = 20log10(V1/V2)\n",
    "#Gdb: (分貝)\n",
    "#V1: 聲壓測量值\n",
    "#V2: 聲壓標準值\n",
    "#請寫下程式\n",
    "v1 = 20000 #聲壓測量值\n",
    "v0 = 20 #聲壓標準值"
   ]
  },
  {
   "cell_type": "code",
   "execution_count": 30,
   "id": "stuffed-crazy",
   "metadata": {},
   "outputs": [
    {
     "data": {
      "text/plain": [
       "60.0"
      ]
     },
     "execution_count": 30,
     "metadata": {},
     "output_type": "execute_result"
    }
   ],
   "source": [
    "20 * np.log10(v1/v0)"
   ]
  },
  {
   "cell_type": "code",
   "execution_count": 34,
   "id": "formed-connectivity",
   "metadata": {},
   "outputs": [],
   "source": [
    "#30 分貝的聲壓會是 50 分貝的幾倍?\n"
   ]
  }
 ],
 "metadata": {
  "kernelspec": {
   "display_name": "Python 3",
   "language": "python",
   "name": "python3"
  },
  "language_info": {
   "codemirror_mode": {
    "name": "ipython",
    "version": 3
   },
   "file_extension": ".py",
   "mimetype": "text/x-python",
   "name": "python",
   "nbconvert_exporter": "python",
   "pygments_lexer": "ipython3",
   "version": "3.8.6"
  }
 },
 "nbformat": 4,
 "nbformat_minor": 5
}
